{
 "cells": [
  {
   "cell_type": "markdown",
   "id": "4e46f471",
   "metadata": {},
   "source": [
    "# HEALTH INSURANCE CROSS SELL PREDICTION"
   ]
  },
  {
   "cell_type": "markdown",
   "id": "dc6ab524",
   "metadata": {},
   "source": [
    "Our client is an Insurance company that has provided Health Insurance to its customers now they need your help in building a model to predict whether the policyholders (customers) from past year will also be interested in Vehicle Insurance provided by the company.\n",
    "\n",
    "\n",
    "An insurance policy is an arrangement by which a company undertakes to provide a guarantee of compensation for specified loss, damage, illness, or death in return for the payment of a specified premium. A premium is a sum of money that the customer needs to pay regularly to an insurance company for this guarantee.\n",
    "\n",
    "\n",
    "For example, you may pay a premium of Rs. 5000 each year for a health insurance cover of Rs. 200,000/- so that if, God forbid, you fall ill and need to be hospitalised in that year, the insurance provider company will bear the cost of hospitalisation etc. for upto Rs. 200,000. Now if you are wondering how can company bear such high hospitalisation cost when it charges a premium of only Rs. 5000/-, that is where the concept of probabilities comes in picture. For example, like you, there may be 100 customers who would be paying a premium of Rs. 5000 every year, but only a few of them (say 2-3) would get hospitalised that year and not everyone. This way everyone shares the risk of everyone else.\n",
    "\n",
    "\n",
    "Just like medical insurance, there is vehicle insurance where every year customer needs to pay a premium of certain amount to the insurance provider company so that in case of unfortunate accident by the vehicle, the insurance provider company will provide a compensation (called ‘sum assured’) to the customer."
   ]
  },
  {
   "cell_type": "markdown",
   "id": "9860de37",
   "metadata": {},
   "source": [
    "## BUSINESS GOALS"
   ]
  },
  {
   "cell_type": "markdown",
   "id": "c68c827b",
   "metadata": {},
   "source": [
    "Building a model to predict whether a customer would be interested in Vehicle Insurance is extremely helpful for the company because it can then accordingly plan its communication strategy to reach out to those customers and optimise its business model and revenue.\n",
    "\n",
    "Now, in order to predict, whether the customer would be interested in Vehicle insurance, you have information about demographics (gender, age, region code type), Vehicles (Vehicle Age, Damage), Policy (Premium, sourcing channel) etc."
   ]
  },
  {
   "cell_type": "markdown",
   "id": "7ca0991f",
   "metadata": {},
   "source": [
    "### DATA DESCRIPTION"
   ]
  },
  {
   "cell_type": "markdown",
   "id": "696918f8",
   "metadata": {},
   "source": [
    "<b>id:</b> Unique ID for the customer\n",
    "\n",
    "<b>Gender:</b> Gender of the customer\n",
    "\n",
    "<b>Age:</b> Age of the customer\n",
    "\n",
    "<b>Driving_License 0:</b> Customer does not have DL, 1 : Customer already has DL\n",
    "\n",
    "<b>Region_Code:</b> Unique code for the region of the customer\n",
    "\n",
    "<b>Previously_Insured 1:</b> Customer already has Vehicle Insurance, 0 : Customer doesn't have Vehicle Insurance\n",
    "\n",
    "<b>Vehicle_Age:</b> Age of the Vehicle\n",
    "\n",
    "<b>Vehicle_Damage 1:</b> Customer got his/her vehicle damaged in the past. 0 : Customer didn't get his/her vehicle damaged in the past.\n",
    "\n",
    "<b>Annual_Premium:</b> The amount customer needs to pay as premium in the year\n",
    "\n",
    "<b>PolicySalesChannel:</b> Anonymized Code for the channel of outreaching to the customer ie. Different Agents, Over Mail, Over Phone, In Person, etc.\n",
    "\n",
    "<b>Vintage:</b> Number of Days, Customer has been associated with the company\n",
    "\n",
    "<b>Response 1:</b> Customer is interested, 0 : Customer is not interested"
   ]
  },
  {
   "cell_type": "markdown",
   "id": "bc1bfebb",
   "metadata": {},
   "source": [
    "### IMPORT LIBRARIES"
   ]
  },
  {
   "cell_type": "code",
   "execution_count": 1,
   "id": "232ac745",
   "metadata": {},
   "outputs": [
    {
     "name": "stderr",
     "output_type": "stream",
     "text": [
      "D:\\PYTHON310\\lib\\site-packages\\pkg_resources\\__init__.py:123: PkgResourcesDeprecationWarning: p is an invalid version and will not be supported in a future release\n",
      "  warnings.warn(\n"
     ]
    }
   ],
   "source": [
    "import numpy as np\n",
    "import pandas as pd\n",
    "import seaborn as sns\n",
    "from imblearn.over_sampling import RandomOverSampler\n",
    "import matplotlib.pyplot as plt\n",
    "import missingno as msno\n",
    "from datetime import date\n",
    "from sklearn.metrics import accuracy_score, classification_report, confusion_matrix\n",
    "from sklearn.model_selection import train_test_split\n",
    "from sklearn.preprocessing import MinMaxScaler, LabelEncoder, StandardScaler, RobustScaler\n",
    "from xgboost import XGBClassifier, plot_importance\n",
    "from sklearn.model_selection import GridSearchCV\n",
    "import warnings\n",
    "warnings.filterwarnings('ignore')\n",
    "\n",
    "sns.set(style='whitegrid')"
   ]
  },
  {
   "cell_type": "markdown",
   "id": "307424e2",
   "metadata": {},
   "source": [
    "### IMPORT DATASETS"
   ]
  },
  {
   "cell_type": "code",
   "execution_count": 2,
   "id": "4253b589",
   "metadata": {},
   "outputs": [],
   "source": [
    "train = pd.read_csv(\"train.csv\")\n",
    "test = pd.read_csv(\"test.csv\")"
   ]
  },
  {
   "cell_type": "code",
   "execution_count": 3,
   "id": "d22bf3cd",
   "metadata": {},
   "outputs": [
    {
     "data": {
      "text/html": [
       "<div>\n",
       "<style scoped>\n",
       "    .dataframe tbody tr th:only-of-type {\n",
       "        vertical-align: middle;\n",
       "    }\n",
       "\n",
       "    .dataframe tbody tr th {\n",
       "        vertical-align: top;\n",
       "    }\n",
       "\n",
       "    .dataframe thead th {\n",
       "        text-align: right;\n",
       "    }\n",
       "</style>\n",
       "<table border=\"1\" class=\"dataframe\">\n",
       "  <thead>\n",
       "    <tr style=\"text-align: right;\">\n",
       "      <th></th>\n",
       "      <th>id</th>\n",
       "      <th>Gender</th>\n",
       "      <th>Age</th>\n",
       "      <th>Driving_License</th>\n",
       "      <th>Region_Code</th>\n",
       "      <th>Previously_Insured</th>\n",
       "      <th>Vehicle_Age</th>\n",
       "      <th>Vehicle_Damage</th>\n",
       "      <th>Annual_Premium</th>\n",
       "      <th>Policy_Sales_Channel</th>\n",
       "      <th>Vintage</th>\n",
       "      <th>Response</th>\n",
       "    </tr>\n",
       "  </thead>\n",
       "  <tbody>\n",
       "    <tr>\n",
       "      <th>0</th>\n",
       "      <td>1</td>\n",
       "      <td>Male</td>\n",
       "      <td>44</td>\n",
       "      <td>1</td>\n",
       "      <td>28.0</td>\n",
       "      <td>0</td>\n",
       "      <td>&gt; 2 Years</td>\n",
       "      <td>Yes</td>\n",
       "      <td>40454.0</td>\n",
       "      <td>26.0</td>\n",
       "      <td>217</td>\n",
       "      <td>1</td>\n",
       "    </tr>\n",
       "    <tr>\n",
       "      <th>1</th>\n",
       "      <td>2</td>\n",
       "      <td>Male</td>\n",
       "      <td>76</td>\n",
       "      <td>1</td>\n",
       "      <td>3.0</td>\n",
       "      <td>0</td>\n",
       "      <td>1-2 Year</td>\n",
       "      <td>No</td>\n",
       "      <td>33536.0</td>\n",
       "      <td>26.0</td>\n",
       "      <td>183</td>\n",
       "      <td>0</td>\n",
       "    </tr>\n",
       "    <tr>\n",
       "      <th>2</th>\n",
       "      <td>3</td>\n",
       "      <td>Male</td>\n",
       "      <td>47</td>\n",
       "      <td>1</td>\n",
       "      <td>28.0</td>\n",
       "      <td>0</td>\n",
       "      <td>&gt; 2 Years</td>\n",
       "      <td>Yes</td>\n",
       "      <td>38294.0</td>\n",
       "      <td>26.0</td>\n",
       "      <td>27</td>\n",
       "      <td>1</td>\n",
       "    </tr>\n",
       "    <tr>\n",
       "      <th>3</th>\n",
       "      <td>4</td>\n",
       "      <td>Male</td>\n",
       "      <td>21</td>\n",
       "      <td>1</td>\n",
       "      <td>11.0</td>\n",
       "      <td>1</td>\n",
       "      <td>&lt; 1 Year</td>\n",
       "      <td>No</td>\n",
       "      <td>28619.0</td>\n",
       "      <td>152.0</td>\n",
       "      <td>203</td>\n",
       "      <td>0</td>\n",
       "    </tr>\n",
       "    <tr>\n",
       "      <th>4</th>\n",
       "      <td>5</td>\n",
       "      <td>Female</td>\n",
       "      <td>29</td>\n",
       "      <td>1</td>\n",
       "      <td>41.0</td>\n",
       "      <td>1</td>\n",
       "      <td>&lt; 1 Year</td>\n",
       "      <td>No</td>\n",
       "      <td>27496.0</td>\n",
       "      <td>152.0</td>\n",
       "      <td>39</td>\n",
       "      <td>0</td>\n",
       "    </tr>\n",
       "  </tbody>\n",
       "</table>\n",
       "</div>"
      ],
      "text/plain": [
       "   id  Gender  Age  Driving_License  Region_Code  Previously_Insured  \\\n",
       "0   1    Male   44                1         28.0                   0   \n",
       "1   2    Male   76                1          3.0                   0   \n",
       "2   3    Male   47                1         28.0                   0   \n",
       "3   4    Male   21                1         11.0                   1   \n",
       "4   5  Female   29                1         41.0                   1   \n",
       "\n",
       "  Vehicle_Age Vehicle_Damage  Annual_Premium  Policy_Sales_Channel  Vintage  \\\n",
       "0   > 2 Years            Yes         40454.0                  26.0      217   \n",
       "1    1-2 Year             No         33536.0                  26.0      183   \n",
       "2   > 2 Years            Yes         38294.0                  26.0       27   \n",
       "3    < 1 Year             No         28619.0                 152.0      203   \n",
       "4    < 1 Year             No         27496.0                 152.0       39   \n",
       "\n",
       "   Response  \n",
       "0         1  \n",
       "1         0  \n",
       "2         1  \n",
       "3         0  \n",
       "4         0  "
      ]
     },
     "execution_count": 3,
     "metadata": {},
     "output_type": "execute_result"
    }
   ],
   "source": [
    "train.head()"
   ]
  },
  {
   "cell_type": "code",
   "execution_count": 4,
   "id": "2a973fa3",
   "metadata": {},
   "outputs": [
    {
     "data": {
      "text/html": [
       "<div>\n",
       "<style scoped>\n",
       "    .dataframe tbody tr th:only-of-type {\n",
       "        vertical-align: middle;\n",
       "    }\n",
       "\n",
       "    .dataframe tbody tr th {\n",
       "        vertical-align: top;\n",
       "    }\n",
       "\n",
       "    .dataframe thead th {\n",
       "        text-align: right;\n",
       "    }\n",
       "</style>\n",
       "<table border=\"1\" class=\"dataframe\">\n",
       "  <thead>\n",
       "    <tr style=\"text-align: right;\">\n",
       "      <th></th>\n",
       "      <th>id</th>\n",
       "      <th>Gender</th>\n",
       "      <th>Age</th>\n",
       "      <th>Driving_License</th>\n",
       "      <th>Region_Code</th>\n",
       "      <th>Previously_Insured</th>\n",
       "      <th>Vehicle_Age</th>\n",
       "      <th>Vehicle_Damage</th>\n",
       "      <th>Annual_Premium</th>\n",
       "      <th>Policy_Sales_Channel</th>\n",
       "      <th>Vintage</th>\n",
       "    </tr>\n",
       "  </thead>\n",
       "  <tbody>\n",
       "    <tr>\n",
       "      <th>0</th>\n",
       "      <td>381110</td>\n",
       "      <td>Male</td>\n",
       "      <td>25</td>\n",
       "      <td>1</td>\n",
       "      <td>11.0</td>\n",
       "      <td>1</td>\n",
       "      <td>&lt; 1 Year</td>\n",
       "      <td>No</td>\n",
       "      <td>35786.0</td>\n",
       "      <td>152.0</td>\n",
       "      <td>53</td>\n",
       "    </tr>\n",
       "    <tr>\n",
       "      <th>1</th>\n",
       "      <td>381111</td>\n",
       "      <td>Male</td>\n",
       "      <td>40</td>\n",
       "      <td>1</td>\n",
       "      <td>28.0</td>\n",
       "      <td>0</td>\n",
       "      <td>1-2 Year</td>\n",
       "      <td>Yes</td>\n",
       "      <td>33762.0</td>\n",
       "      <td>7.0</td>\n",
       "      <td>111</td>\n",
       "    </tr>\n",
       "    <tr>\n",
       "      <th>2</th>\n",
       "      <td>381112</td>\n",
       "      <td>Male</td>\n",
       "      <td>47</td>\n",
       "      <td>1</td>\n",
       "      <td>28.0</td>\n",
       "      <td>0</td>\n",
       "      <td>1-2 Year</td>\n",
       "      <td>Yes</td>\n",
       "      <td>40050.0</td>\n",
       "      <td>124.0</td>\n",
       "      <td>199</td>\n",
       "    </tr>\n",
       "    <tr>\n",
       "      <th>3</th>\n",
       "      <td>381113</td>\n",
       "      <td>Male</td>\n",
       "      <td>24</td>\n",
       "      <td>1</td>\n",
       "      <td>27.0</td>\n",
       "      <td>1</td>\n",
       "      <td>&lt; 1 Year</td>\n",
       "      <td>Yes</td>\n",
       "      <td>37356.0</td>\n",
       "      <td>152.0</td>\n",
       "      <td>187</td>\n",
       "    </tr>\n",
       "    <tr>\n",
       "      <th>4</th>\n",
       "      <td>381114</td>\n",
       "      <td>Male</td>\n",
       "      <td>27</td>\n",
       "      <td>1</td>\n",
       "      <td>28.0</td>\n",
       "      <td>1</td>\n",
       "      <td>&lt; 1 Year</td>\n",
       "      <td>No</td>\n",
       "      <td>59097.0</td>\n",
       "      <td>152.0</td>\n",
       "      <td>297</td>\n",
       "    </tr>\n",
       "  </tbody>\n",
       "</table>\n",
       "</div>"
      ],
      "text/plain": [
       "       id Gender  Age  Driving_License  Region_Code  Previously_Insured  \\\n",
       "0  381110   Male   25                1         11.0                   1   \n",
       "1  381111   Male   40                1         28.0                   0   \n",
       "2  381112   Male   47                1         28.0                   0   \n",
       "3  381113   Male   24                1         27.0                   1   \n",
       "4  381114   Male   27                1         28.0                   1   \n",
       "\n",
       "  Vehicle_Age Vehicle_Damage  Annual_Premium  Policy_Sales_Channel  Vintage  \n",
       "0    < 1 Year             No         35786.0                 152.0       53  \n",
       "1    1-2 Year            Yes         33762.0                   7.0      111  \n",
       "2    1-2 Year            Yes         40050.0                 124.0      199  \n",
       "3    < 1 Year            Yes         37356.0                 152.0      187  \n",
       "4    < 1 Year             No         59097.0                 152.0      297  "
      ]
     },
     "execution_count": 4,
     "metadata": {},
     "output_type": "execute_result"
    }
   ],
   "source": [
    "test.head()"
   ]
  },
  {
   "cell_type": "code",
   "execution_count": 5,
   "id": "2d21266a",
   "metadata": {},
   "outputs": [
    {
     "data": {
      "text/plain": [
       "(381109, 12)"
      ]
     },
     "execution_count": 5,
     "metadata": {},
     "output_type": "execute_result"
    }
   ],
   "source": [
    "train.shape"
   ]
  },
  {
   "cell_type": "code",
   "execution_count": 6,
   "id": "1f7fe8a6",
   "metadata": {},
   "outputs": [
    {
     "data": {
      "text/plain": [
       "(127037, 11)"
      ]
     },
     "execution_count": 6,
     "metadata": {},
     "output_type": "execute_result"
    }
   ],
   "source": [
    "test.shape"
   ]
  },
  {
   "cell_type": "markdown",
   "id": "d6f2230b",
   "metadata": {},
   "source": [
    "#### CHECK FOR MISSING VALUES"
   ]
  },
  {
   "cell_type": "code",
   "execution_count": 7,
   "id": "4bb74814",
   "metadata": {},
   "outputs": [
    {
     "data": {
      "text/plain": [
       "id                      0\n",
       "Gender                  0\n",
       "Age                     0\n",
       "Driving_License         0\n",
       "Region_Code             0\n",
       "Previously_Insured      0\n",
       "Vehicle_Age             0\n",
       "Vehicle_Damage          0\n",
       "Annual_Premium          0\n",
       "Policy_Sales_Channel    0\n",
       "Vintage                 0\n",
       "Response                0\n",
       "dtype: int64"
      ]
     },
     "execution_count": 7,
     "metadata": {},
     "output_type": "execute_result"
    }
   ],
   "source": [
    "train.isnull().sum()"
   ]
  },
  {
   "cell_type": "markdown",
   "id": "aed52913",
   "metadata": {},
   "source": [
    "- As we can see there's no missing values in our dataset, so we can move onto EDA part of project."
   ]
  },
  {
   "cell_type": "code",
   "execution_count": 8,
   "id": "5abe3dc9",
   "metadata": {},
   "outputs": [
    {
     "data": {
      "text/html": [
       "<div>\n",
       "<style scoped>\n",
       "    .dataframe tbody tr th:only-of-type {\n",
       "        vertical-align: middle;\n",
       "    }\n",
       "\n",
       "    .dataframe tbody tr th {\n",
       "        vertical-align: top;\n",
       "    }\n",
       "\n",
       "    .dataframe thead th {\n",
       "        text-align: right;\n",
       "    }\n",
       "</style>\n",
       "<table border=\"1\" class=\"dataframe\">\n",
       "  <thead>\n",
       "    <tr style=\"text-align: right;\">\n",
       "      <th></th>\n",
       "      <th>0.00</th>\n",
       "      <th>0.05</th>\n",
       "      <th>0.50</th>\n",
       "      <th>0.95</th>\n",
       "      <th>0.99</th>\n",
       "      <th>1.00</th>\n",
       "    </tr>\n",
       "  </thead>\n",
       "  <tbody>\n",
       "    <tr>\n",
       "      <th>Age</th>\n",
       "      <td>20.0</td>\n",
       "      <td>21.0</td>\n",
       "      <td>36.0</td>\n",
       "      <td>69.0</td>\n",
       "      <td>77.0</td>\n",
       "      <td>85.0</td>\n",
       "    </tr>\n",
       "    <tr>\n",
       "      <th>Driving_License</th>\n",
       "      <td>0.0</td>\n",
       "      <td>1.0</td>\n",
       "      <td>1.0</td>\n",
       "      <td>1.0</td>\n",
       "      <td>1.0</td>\n",
       "      <td>1.0</td>\n",
       "    </tr>\n",
       "    <tr>\n",
       "      <th>Region_Code</th>\n",
       "      <td>0.0</td>\n",
       "      <td>5.0</td>\n",
       "      <td>28.0</td>\n",
       "      <td>47.0</td>\n",
       "      <td>50.0</td>\n",
       "      <td>52.0</td>\n",
       "    </tr>\n",
       "    <tr>\n",
       "      <th>Previously_Insured</th>\n",
       "      <td>0.0</td>\n",
       "      <td>0.0</td>\n",
       "      <td>0.0</td>\n",
       "      <td>1.0</td>\n",
       "      <td>1.0</td>\n",
       "      <td>1.0</td>\n",
       "    </tr>\n",
       "    <tr>\n",
       "      <th>Annual_Premium</th>\n",
       "      <td>2630.0</td>\n",
       "      <td>2630.0</td>\n",
       "      <td>31669.0</td>\n",
       "      <td>55176.0</td>\n",
       "      <td>72963.0</td>\n",
       "      <td>540165.0</td>\n",
       "    </tr>\n",
       "    <tr>\n",
       "      <th>Policy_Sales_Channel</th>\n",
       "      <td>1.0</td>\n",
       "      <td>26.0</td>\n",
       "      <td>133.0</td>\n",
       "      <td>160.0</td>\n",
       "      <td>160.0</td>\n",
       "      <td>163.0</td>\n",
       "    </tr>\n",
       "    <tr>\n",
       "      <th>Vintage</th>\n",
       "      <td>10.0</td>\n",
       "      <td>24.0</td>\n",
       "      <td>154.0</td>\n",
       "      <td>285.0</td>\n",
       "      <td>297.0</td>\n",
       "      <td>299.0</td>\n",
       "    </tr>\n",
       "    <tr>\n",
       "      <th>Response</th>\n",
       "      <td>0.0</td>\n",
       "      <td>0.0</td>\n",
       "      <td>0.0</td>\n",
       "      <td>1.0</td>\n",
       "      <td>1.0</td>\n",
       "      <td>1.0</td>\n",
       "    </tr>\n",
       "  </tbody>\n",
       "</table>\n",
       "</div>"
      ],
      "text/plain": [
       "                        0.00    0.05     0.50     0.95     0.99      1.00\n",
       "Age                     20.0    21.0     36.0     69.0     77.0      85.0\n",
       "Driving_License          0.0     1.0      1.0      1.0      1.0       1.0\n",
       "Region_Code              0.0     5.0     28.0     47.0     50.0      52.0\n",
       "Previously_Insured       0.0     0.0      0.0      1.0      1.0       1.0\n",
       "Annual_Premium        2630.0  2630.0  31669.0  55176.0  72963.0  540165.0\n",
       "Policy_Sales_Channel     1.0    26.0    133.0    160.0    160.0     163.0\n",
       "Vintage                 10.0    24.0    154.0    285.0    297.0     299.0\n",
       "Response                 0.0     0.0      0.0      1.0      1.0       1.0"
      ]
     },
     "execution_count": 8,
     "metadata": {},
     "output_type": "execute_result"
    }
   ],
   "source": [
    "train.drop(\"id\",axis =1).quantile([0, 0.05, 0.50, 0.95, 0.99, 1]).T"
   ]
  },
  {
   "cell_type": "markdown",
   "id": "dfcd28ad",
   "metadata": {},
   "source": [
    "## EXPLORATORY DATA ANALYSIS"
   ]
  },
  {
   "cell_type": "markdown",
   "id": "8e5306d9",
   "metadata": {},
   "source": [
    "### CHECK COLUMNS (CATEGORICAL OR NUMERICAL)"
   ]
  },
  {
   "cell_type": "code",
   "execution_count": 9,
   "id": "11b4d716",
   "metadata": {},
   "outputs": [
    {
     "name": "stdout",
     "output_type": "stream",
     "text": [
      "Observations: 381109\n",
      "Variables: 12\n",
      "cat_cols: 6\n",
      "num_cols: 6\n",
      "cat_but_car: 0\n",
      "num_but_cat: 3\n"
     ]
    }
   ],
   "source": [
    "def col_names(dataframe, cat_th=10, car_th=20):\n",
    "    \"\"\"\n",
    "    This function is used to return the names of categorical, numerical as well as categorical but cardinal variables in the dataset. \n",
    "    \n",
    "    Parameters\n",
    "    ------\n",
    "        dataframe: dataframe\n",
    "        cat_th: int, optional\n",
    "                the class threshold for numeric but categorical variables\n",
    "        car_th: int, optinal\n",
    "                the class threshold for categorical but cardinal variables\n",
    "\n",
    "    Returns\n",
    "    ------\n",
    "        cat_cols: list\n",
    "                Categorical Variables List\n",
    "        num_cols: list\n",
    "                Numeric Variables List\n",
    "        cat_but_car: list\n",
    "                Categorical but cardinal variables list\n",
    "\n",
    "    Notes\n",
    "    ------\n",
    "        cat_cols + num_cols + cat_but_car = total number of variables\n",
    "        num_but_cat is in cat_cols\n",
    "\n",
    "    \"\"\"\n",
    "\n",
    "    # cat_cols, cat_but_car\n",
    "    cat_cols = [col for col in dataframe.columns if dataframe[col].dtypes == \"O\"]\n",
    "    num_but_cat = [col for col in dataframe.columns if dataframe[col].nunique() < cat_th and\n",
    "                   dataframe[col].dtypes != \"O\"]\n",
    "    cat_but_car = [col for col in dataframe.columns if dataframe[col].nunique() > car_th and\n",
    "                   dataframe[col].dtypes == \"O\"]\n",
    "    cat_cols = cat_cols + num_but_cat\n",
    "    cat_cols = [col for col in cat_cols if col not in cat_but_car]\n",
    "\n",
    "    # num_cols\n",
    "    num_cols = [col for col in dataframe.columns if dataframe[col].dtypes != \"O\"]\n",
    "    num_cols = [col for col in num_cols if col not in num_but_cat]\n",
    "\n",
    "    print(f\"Observations: {dataframe.shape[0]}\")\n",
    "    print(f\"Variables: {dataframe.shape[1]}\")\n",
    "    print(f'cat_cols: {len(cat_cols)}')\n",
    "    print(f'num_cols: {len(num_cols)}')\n",
    "    print(f'cat_but_car: {len(cat_but_car)}')\n",
    "    print(f'num_but_cat: {len(num_but_cat)}')\n",
    "    return cat_cols, num_cols, cat_but_car\n",
    "\n",
    "cat_cols, num_cols, cat_but_car = col_names(train)"
   ]
  },
  {
   "cell_type": "code",
   "execution_count": 10,
   "id": "3f017244",
   "metadata": {},
   "outputs": [
    {
     "data": {
      "text/plain": [
       "['Gender',\n",
       " 'Vehicle_Age',\n",
       " 'Vehicle_Damage',\n",
       " 'Driving_License',\n",
       " 'Previously_Insured',\n",
       " 'Response']"
      ]
     },
     "execution_count": 10,
     "metadata": {},
     "output_type": "execute_result"
    }
   ],
   "source": [
    "cat_cols"
   ]
  },
  {
   "cell_type": "code",
   "execution_count": 11,
   "id": "17814f86",
   "metadata": {},
   "outputs": [],
   "source": [
    "num_cols = [col for col in num_cols if \"id\" not in col]\n",
    "num_cols = [col for col in num_cols if \"Policy_Sales_Channel\" not in col]"
   ]
  },
  {
   "cell_type": "markdown",
   "id": "7cc7c22d",
   "metadata": {},
   "source": [
    "### SUMMARY CATEGORICAL COLUMNS"
   ]
  },
  {
   "cell_type": "code",
   "execution_count": 12,
   "id": "4cc77d38",
   "metadata": {},
   "outputs": [
    {
     "name": "stdout",
     "output_type": "stream",
     "text": [
      "        Gender     Ratio\n",
      "Male    206089  54.07613\n",
      "Female  175020  45.92387\n"
     ]
    },
    {
     "data": {
      "image/png": "[encoded data removed]",
      "text/plain": [
       "<Figure size 432x288 with 1 Axes>"
      ]
     },
     "metadata": {},
     "output_type": "display_data"
    },
    {
     "name": "stdout",
     "output_type": "stream",
     "text": [
      "           Vehicle_Age      Ratio\n",
      "1-2 Year        200316  52.561341\n",
      "< 1 Year        164786  43.238549\n",
      "> 2 Years        16007   4.200111\n"
     ]
    },
    {
     "data": {
      "image/png": "[encoded data removed]",
      "text/plain": [
       "<Figure size 432x288 with 1 Axes>"
      ]
     },
     "metadata": {},
     "output_type": "display_data"
    },
    {
     "name": "stdout",
     "output_type": "stream",
     "text": [
      "     Vehicle_Damage      Ratio\n",
      "Yes          192413  50.487656\n",
      "No           188696  49.512344\n"
     ]
    },
    {
     "data": {
      "image/png": "[encoded data removed]",
      "text/plain": [
       "<Figure size 432x288 with 1 Axes>"
      ]
     },
     "metadata": {},
     "output_type": "display_data"
    },
    {
     "name": "stdout",
     "output_type": "stream",
     "text": [
      "   Driving_License      Ratio\n",
      "1           380297  99.786938\n",
      "0              812   0.213062\n"
     ]
    },
    {
     "data": {
      "image/png": "[encoded data removed]",
      "text/plain": [
       "<Figure size 432x288 with 1 Axes>"
      ]
     },
     "metadata": {},
     "output_type": "display_data"
    },
    {
     "name": "stdout",
     "output_type": "stream",
     "text": [
      "   Previously_Insured      Ratio\n",
      "0              206481  54.178988\n",
      "1              174628  45.821012\n"
     ]
    },
    {
     "data": {
      "image/png": "[encoded data removed]",
      "text/plain": [
       "<Figure size 432x288 with 1 Axes>"
      ]
     },
     "metadata": {},
     "output_type": "display_data"
    },
    {
     "name": "stdout",
     "output_type": "stream",
     "text": [
      "   Response      Ratio\n",
      "0    334399  87.743664\n",
      "1     46710  12.256336\n"
     ]
    },
    {
     "data": {
      "image/png": "[encoded data removed]",
      "text/plain": [
       "<Figure size 432x288 with 1 Axes>"
      ]
     },
     "metadata": {},
     "output_type": "display_data"
    }
   ],
   "source": [
    "def cat_summary(dataframe, col_name, plot=False):\n",
    "    print(pd.DataFrame({col_name: dataframe[col_name].value_counts(),\n",
    "                        \"Ratio\": 100 * dataframe[col_name].value_counts() / len(dataframe)}))\n",
    "    if plot:\n",
    "        sns.countplot(x=dataframe[col_name], data=dataframe)\n",
    "        plt.show()\n",
    "\n",
    "\n",
    "for i in cat_cols:\n",
    "    cat_summary(train, i, plot=True)"
   ]
  },
  {
   "cell_type": "markdown",
   "id": "bba376a5",
   "metadata": {},
   "source": [
    "### SUMMARY NUMERIC COLUMNS"
   ]
  },
  {
   "cell_type": "code",
   "execution_count": 13,
   "id": "e54c6a49",
   "metadata": {},
   "outputs": [
    {
     "name": "stdout",
     "output_type": "stream",
     "text": [
      "count    381109.000000\n",
      "mean         38.822584\n",
      "std          15.511611\n",
      "min          20.000000\n",
      "5%           21.000000\n",
      "10%          22.000000\n",
      "20%          24.000000\n",
      "30%          25.000000\n",
      "40%          29.000000\n",
      "50%          36.000000\n",
      "60%          42.000000\n",
      "70%          47.000000\n",
      "80%          53.000000\n",
      "90%          62.000000\n",
      "95%          69.000000\n",
      "99%          77.000000\n",
      "max          85.000000\n",
      "Name: Age, dtype: float64\n"
     ]
    },
    {
     "data": {
      "image/png": "[encoded data removed]",
      "text/plain": [
       "<Figure size 432x288 with 1 Axes>"
      ]
     },
     "metadata": {},
     "output_type": "display_data"
    },
    {
     "name": "stdout",
     "output_type": "stream",
     "text": [
      "_____________________________________\n",
      "count    381109.000000\n",
      "mean         26.388807\n",
      "std          13.229888\n",
      "min           0.000000\n",
      "5%            5.000000\n",
      "10%           8.000000\n",
      "20%          11.000000\n",
      "30%          18.000000\n",
      "40%          28.000000\n",
      "50%          28.000000\n",
      "60%          28.000000\n",
      "70%          31.000000\n",
      "80%          39.000000\n",
      "90%          46.000000\n",
      "95%          47.000000\n",
      "99%          50.000000\n",
      "max          52.000000\n",
      "Name: Region_Code, dtype: float64\n"
     ]
    },
    {
     "data": {
      "image/png": "[encoded data removed]",
      "text/plain": [
       "<Figure size 432x288 with 1 Axes>"
      ]
     },
     "metadata": {},
     "output_type": "display_data"
    },
    {
     "name": "stdout",
     "output_type": "stream",
     "text": [
      "_____________________________________\n",
      "count    381109.000000\n",
      "mean      30564.389581\n",
      "std       17213.155057\n",
      "min        2630.000000\n",
      "5%         2630.000000\n",
      "10%        2630.000000\n",
      "20%       21583.600000\n",
      "30%       26238.000000\n",
      "40%       29082.000000\n",
      "50%       31669.000000\n",
      "60%       34406.000000\n",
      "70%       37548.000000\n",
      "80%       41711.000000\n",
      "90%       48431.000000\n",
      "95%       55176.000000\n",
      "99%       72963.000000\n",
      "max      540165.000000\n",
      "Name: Annual_Premium, dtype: float64\n"
     ]
    },
    {
     "data": {
      "image/png": "[encoded data removed]",
      "text/plain": [
       "<Figure size 432x288 with 1 Axes>"
      ]
     },
     "metadata": {},
     "output_type": "display_data"
    },
    {
     "name": "stdout",
     "output_type": "stream",
     "text": [
      "_____________________________________\n",
      "count    381109.000000\n",
      "mean        154.347397\n",
      "std          83.671304\n",
      "min          10.000000\n",
      "5%           24.000000\n",
      "10%          38.000000\n",
      "20%          68.000000\n",
      "30%          96.000000\n",
      "40%         125.000000\n",
      "50%         154.000000\n",
      "60%         183.000000\n",
      "70%         212.000000\n",
      "80%         241.000000\n",
      "90%         270.000000\n",
      "95%         285.000000\n",
      "99%         297.000000\n",
      "max         299.000000\n",
      "Name: Vintage, dtype: float64\n"
     ]
    },
    {
     "data": {
      "image/png": "[encoded data removed]",
      "text/plain": [
       "<Figure size 432x288 with 1 Axes>"
      ]
     },
     "metadata": {},
     "output_type": "display_data"
    },
    {
     "name": "stdout",
     "output_type": "stream",
     "text": [
      "_____________________________________\n"
     ]
    }
   ],
   "source": [
    "def num_summary(dataframe, numerical_col, plot=False):\n",
    "    quantiles = [0.05, 0.10, 0.20, 0.30, 0.40, 0.50, 0.60, 0.70, 0.80, 0.90, 0.95, 0.99]\n",
    "    print(dataframe[numerical_col].describe(quantiles).T)\n",
    "\n",
    "    if plot:\n",
    "        dataframe[numerical_col].hist(bins=50)\n",
    "        plt.xlabel(numerical_col)\n",
    "        plt.title(numerical_col)\n",
    "        plt.show()\n",
    "\n",
    "    print(\"_____________________________________\")\n",
    "\n",
    "for col in num_cols:\n",
    "    num_summary(train, col, plot=True)"
   ]
  },
  {
   "cell_type": "code",
   "execution_count": 14,
   "id": "12696d25",
   "metadata": {},
   "outputs": [],
   "source": [
    "def target_summary_numerical(dataframe, target, numerical_col):\n",
    "    print(dataframe.groupby(target).agg({numerical_col : \"mean\"}), end=\"\\n\\n\\n\")"
   ]
  },
  {
   "cell_type": "code",
   "execution_count": 15,
   "id": "0f2c8d15",
   "metadata": {},
   "outputs": [
    {
     "name": "stdout",
     "output_type": "stream",
     "text": [
      "                Age\n",
      "Response           \n",
      "0         38.178227\n",
      "1         43.435560\n",
      "\n",
      "\n",
      "          Region_Code\n",
      "Response             \n",
      "0           26.336544\n",
      "1           26.762963\n",
      "\n",
      "\n",
      "          Annual_Premium\n",
      "Response                \n",
      "0           30419.160276\n",
      "1           31604.092742\n",
      "\n",
      "\n",
      "             Vintage\n",
      "Response            \n",
      "0         154.380243\n",
      "1         154.112246\n",
      "\n",
      "\n"
     ]
    }
   ],
   "source": [
    "for col in num_cols:\n",
    "    target_summary_numerical(train, \"Response\", col)"
   ]
  },
  {
   "cell_type": "code",
   "execution_count": 16,
   "id": "11730a60",
   "metadata": {},
   "outputs": [
    {
     "data": {
      "image/png": "[encoded data removed]",
      "text/plain": [
       "<Figure size 432x288 with 1 Axes>"
      ]
     },
     "metadata": {},
     "output_type": "display_data"
    },
    {
     "data": {
      "image/png": "[encoded data removed]",
      "text/plain": [
       "<Figure size 432x288 with 1 Axes>"
      ]
     },
     "metadata": {},
     "output_type": "display_data"
    },
    {
     "data": {
      "image/png": "[encoded data removed]",
      "text/plain": [
       "<Figure size 432x288 with 1 Axes>"
      ]
     },
     "metadata": {},
     "output_type": "display_data"
    },
    {
     "data": {
      "image/png": "[encoded data removed]",
      "text/plain": [
       "<Figure size 432x288 with 1 Axes>"
      ]
     },
     "metadata": {},
     "output_type": "display_data"
    }
   ],
   "source": [
    "def num_sns(dataframe, col_name, plot=False):\n",
    "    if plot:\n",
    "        sns.boxplot(x=dataframe[f\"{col_name}\"], data=dataframe)\n",
    "        \n",
    "for i in num_cols:\n",
    "    plt.figure(i)\n",
    "    num_sns(train, i, plot=True)"
   ]
  },
  {
   "cell_type": "markdown",
   "id": "8fc44eb7",
   "metadata": {},
   "source": [
    "### VEHICLE AGE-RESPONSE VISUALIZATION"
   ]
  },
  {
   "cell_type": "code",
   "execution_count": 17,
   "id": "b92acf7d",
   "metadata": {},
   "outputs": [
    {
     "data": {
      "text/html": [
       "<div>\n",
       "<style scoped>\n",
       "    .dataframe tbody tr th:only-of-type {\n",
       "        vertical-align: middle;\n",
       "    }\n",
       "\n",
       "    .dataframe tbody tr th {\n",
       "        vertical-align: top;\n",
       "    }\n",
       "\n",
       "    .dataframe thead th {\n",
       "        text-align: right;\n",
       "    }\n",
       "</style>\n",
       "<table border=\"1\" class=\"dataframe\">\n",
       "  <thead>\n",
       "    <tr style=\"text-align: right;\">\n",
       "      <th></th>\n",
       "      <th>Vehicle_Age</th>\n",
       "      <th>Response</th>\n",
       "      <th>count</th>\n",
       "    </tr>\n",
       "  </thead>\n",
       "  <tbody>\n",
       "    <tr>\n",
       "      <th>0</th>\n",
       "      <td>1-2 Year</td>\n",
       "      <td>0</td>\n",
       "      <td>165510</td>\n",
       "    </tr>\n",
       "    <tr>\n",
       "      <th>1</th>\n",
       "      <td>1-2 Year</td>\n",
       "      <td>1</td>\n",
       "      <td>34806</td>\n",
       "    </tr>\n",
       "    <tr>\n",
       "      <th>2</th>\n",
       "      <td>&lt; 1 Year</td>\n",
       "      <td>0</td>\n",
       "      <td>157584</td>\n",
       "    </tr>\n",
       "    <tr>\n",
       "      <th>3</th>\n",
       "      <td>&lt; 1 Year</td>\n",
       "      <td>1</td>\n",
       "      <td>7202</td>\n",
       "    </tr>\n",
       "    <tr>\n",
       "      <th>4</th>\n",
       "      <td>&gt; 2 Years</td>\n",
       "      <td>0</td>\n",
       "      <td>11305</td>\n",
       "    </tr>\n",
       "    <tr>\n",
       "      <th>5</th>\n",
       "      <td>&gt; 2 Years</td>\n",
       "      <td>1</td>\n",
       "      <td>4702</td>\n",
       "    </tr>\n",
       "  </tbody>\n",
       "</table>\n",
       "</div>"
      ],
      "text/plain": [
       "  Vehicle_Age  Response   count\n",
       "0    1-2 Year         0  165510\n",
       "1    1-2 Year         1   34806\n",
       "2    < 1 Year         0  157584\n",
       "3    < 1 Year         1    7202\n",
       "4   > 2 Years         0   11305\n",
       "5   > 2 Years         1    4702"
      ]
     },
     "execution_count": 17,
     "metadata": {},
     "output_type": "execute_result"
    }
   ],
   "source": [
    "df=train.groupby(['Vehicle_Age','Response'])['id'].count().to_frame().rename(columns={'id':'count'}).reset_index()\n",
    "df"
   ]
  },
  {
   "cell_type": "code",
   "execution_count": 18,
   "id": "71e9f101",
   "metadata": {},
   "outputs": [
    {
     "data": {
      "image/png": "[encoded data removed]",
      "text/plain": [
       "<Figure size 403.2x288 with 2 Axes>"
      ]
     },
     "metadata": {},
     "output_type": "display_data"
    }
   ],
   "source": [
    "plot_v_age_res = sns.catplot(x=\"Vehicle_Age\", y=\"count\",col=\"Response\",\n",
    "                data=df, kind=\"bar\",\n",
    "                height=4, aspect=.7);"
   ]
  },
  {
   "cell_type": "markdown",
   "id": "3d443ff4",
   "metadata": {},
   "source": [
    "### VEHICLE DAMAGE-RESPONSE VISUALIZATION"
   ]
  },
  {
   "cell_type": "code",
   "execution_count": 19,
   "id": "4e2277ae",
   "metadata": {},
   "outputs": [],
   "source": [
    "df=train.groupby(['Vehicle_Damage','Response'])['id'].count().to_frame().rename(columns={'id':'count'}).reset_index()"
   ]
  },
  {
   "cell_type": "code",
   "execution_count": 20,
   "id": "125db819",
   "metadata": {},
   "outputs": [
    {
     "data": {
      "image/png": "[encoded data removed]",
      "text/plain": [
       "<Figure size 403.2x288 with 2 Axes>"
      ]
     },
     "metadata": {},
     "output_type": "display_data"
    }
   ],
   "source": [
    "plot_v_res = sns.catplot(x=\"Vehicle_Damage\", y=\"count\",col=\"Response\",\n",
    "                data=df, kind=\"bar\",\n",
    "                height=4, aspect=.7);"
   ]
  },
  {
   "cell_type": "markdown",
   "id": "07137d65",
   "metadata": {},
   "source": [
    "### AGE-ANNUAL PREMIUM VISUALIZATION"
   ]
  },
  {
   "cell_type": "code",
   "execution_count": 21,
   "id": "6f8204a9",
   "metadata": {},
   "outputs": [
    {
     "data": {
      "image/png": "[encoded data removed]",
      "text/plain": [
       "<Figure size 432x288 with 1 Axes>"
      ]
     },
     "metadata": {},
     "output_type": "display_data"
    }
   ],
   "source": [
    "sns.scatterplot(x=train['Age'],y=train['Annual_Premium']);"
   ]
  },
  {
   "cell_type": "markdown",
   "id": "e9ba3f54",
   "metadata": {},
   "source": [
    "## DATA PREPROCESSING"
   ]
  },
  {
   "cell_type": "markdown",
   "id": "82b7903f",
   "metadata": {},
   "source": [
    "### FINDING OUTLIERS"
   ]
  },
  {
   "cell_type": "code",
   "execution_count": 22,
   "id": "37b40527",
   "metadata": {},
   "outputs": [],
   "source": [
    "def outlier_thresholds(df, col_name, q1=0.05, q3=0.95):\n",
    "    quartile1 = df[col_name].quantile(q1)\n",
    "    quartile3 = df[col_name].quantile(q3)\n",
    "    interquantile_range = quartile3 - quartile1\n",
    "    up_limit = quartile3 + 3 * interquantile_range\n",
    "    low_limit = quartile1 - 3 * interquantile_range\n",
    "    return low_limit, up_limit\n",
    "\n",
    "\n",
    "def check_outlier(df, col_name):\n",
    "    low_limit, up_limit = outlier_thresholds(df, col_name)\n",
    "    if df[(df[col_name] > up_limit) | (df[col_name] < low_limit)].any(axis=None):\n",
    "        return True\n",
    "    else:\n",
    "        return False"
   ]
  },
  {
   "cell_type": "code",
   "execution_count": 23,
   "id": "b8d0030e",
   "metadata": {},
   "outputs": [
    {
     "name": "stdout",
     "output_type": "stream",
     "text": [
      "Age : False\n",
      "Region_Code : False\n",
      "Annual_Premium : True\n",
      "Vintage : False\n"
     ]
    }
   ],
   "source": [
    "for col in num_cols:\n",
    "    print(f\"{col} : {check_outlier(train,col)}\")"
   ]
  },
  {
   "cell_type": "code",
   "execution_count": 24,
   "id": "4f59f697",
   "metadata": {},
   "outputs": [],
   "source": [
    "def grab_outliers(df, col_name, index=False):\n",
    "    low, up = outlier_thresholds(df, col_name)\n",
    "\n",
    "    if df[((df[col_name] < low) | (df[col_name] > up))].shape[0] > 10:\n",
    "        print(df[((df[col_name] < low) | (df[col_name] > up))].head())\n",
    "    else:\n",
    "        print(df[((df[col_name] < low) | (df[col_name] > up))])\n",
    "\n",
    "    if index:\n",
    "        outlier_index = df[((df[col_name] < low) | (df[col_name] > up))].index\n",
    "        return outlier_index"
   ]
  },
  {
   "cell_type": "code",
   "execution_count": 25,
   "id": "7611c832",
   "metadata": {},
   "outputs": [
    {
     "name": "stdout",
     "output_type": "stream",
     "text": [
      "Empty DataFrame\n",
      "Columns: [id, Gender, Age, Driving_License, Region_Code, Previously_Insured, Vehicle_Age, Vehicle_Damage, Annual_Premium, Policy_Sales_Channel, Vintage, Response]\n",
      "Index: []\n",
      "Empty DataFrame\n",
      "Columns: [id, Gender, Age, Driving_License, Region_Code, Previously_Insured, Vehicle_Age, Vehicle_Damage, Annual_Premium, Policy_Sales_Channel, Vintage, Response]\n",
      "Index: []\n",
      "          id  Gender  Age  Driving_License  Region_Code  Previously_Insured  \\\n",
      "1412    1413  Female   41                1         28.0                   0   \n",
      "11319  11320  Female   50                1         46.0                   1   \n",
      "13426  13427  Female   47                1         28.0                   0   \n",
      "15024  15025  Female   32                1         28.0                   0   \n",
      "25532  25533    Male   50                1         28.0                   0   \n",
      "\n",
      "      Vehicle_Age Vehicle_Damage  Annual_Premium  Policy_Sales_Channel  \\\n",
      "1412     1-2 Year            Yes        267698.0                 124.0   \n",
      "11319    1-2 Year             No        508073.0                  26.0   \n",
      "13426    1-2 Year            Yes        301762.0                 124.0   \n",
      "15024    1-2 Year            Yes        315565.0                 155.0   \n",
      "25532    1-2 Year            Yes        229935.0                 122.0   \n",
      "\n",
      "       Vintage  Response  \n",
      "1412        63         1  \n",
      "11319      192         0  \n",
      "13426       22         0  \n",
      "15024      150         0  \n",
      "25532       64         1  \n",
      "Empty DataFrame\n",
      "Columns: [id, Gender, Age, Driving_License, Region_Code, Previously_Insured, Vehicle_Age, Vehicle_Damage, Annual_Premium, Policy_Sales_Channel, Vintage, Response]\n",
      "Index: []\n"
     ]
    }
   ],
   "source": [
    "for col in num_cols:\n",
    "    col, grab_outliers(train, col)"
   ]
  },
  {
   "cell_type": "code",
   "execution_count": 26,
   "id": "ce945c64",
   "metadata": {},
   "outputs": [],
   "source": [
    "def replace_with_thresholds(df, variable):\n",
    "    low_limit, up_limit = outlier_thresholds(df, variable)\n",
    "    df.loc[(df[variable] < low_limit), variable] = low_limit\n",
    "    df.loc[(df[variable] > up_limit), variable] = up_limit"
   ]
  },
  {
   "cell_type": "code",
   "execution_count": 27,
   "id": "decf7ff5",
   "metadata": {},
   "outputs": [],
   "source": [
    "for col in num_cols:\n",
    "    replace_with_thresholds(train, col)"
   ]
  },
  {
   "cell_type": "code",
   "execution_count": 28,
   "id": "308359c6",
   "metadata": {},
   "outputs": [
    {
     "name": "stdout",
     "output_type": "stream",
     "text": [
      "Age : False\n",
      "Region_Code : False\n",
      "Annual_Premium : False\n",
      "Vintage : False\n"
     ]
    }
   ],
   "source": [
    "# CHECK OUTLIERS AGAIN\n",
    "for col in num_cols:\n",
    "    print(f\"{col} : {check_outlier(train,col)}\")"
   ]
  },
  {
   "cell_type": "code",
   "execution_count": 29,
   "id": "94c246e9",
   "metadata": {},
   "outputs": [
    {
     "data": {
      "text/html": [
       "<div>\n",
       "<style scoped>\n",
       "    .dataframe tbody tr th:only-of-type {\n",
       "        vertical-align: middle;\n",
       "    }\n",
       "\n",
       "    .dataframe tbody tr th {\n",
       "        vertical-align: top;\n",
       "    }\n",
       "\n",
       "    .dataframe thead th {\n",
       "        text-align: right;\n",
       "    }\n",
       "</style>\n",
       "<table border=\"1\" class=\"dataframe\">\n",
       "  <thead>\n",
       "    <tr style=\"text-align: right;\">\n",
       "      <th></th>\n",
       "      <th>0.00</th>\n",
       "      <th>0.05</th>\n",
       "      <th>0.50</th>\n",
       "      <th>0.95</th>\n",
       "      <th>0.99</th>\n",
       "      <th>1.00</th>\n",
       "    </tr>\n",
       "  </thead>\n",
       "  <tbody>\n",
       "    <tr>\n",
       "      <th>Age</th>\n",
       "      <td>20.0</td>\n",
       "      <td>21.0</td>\n",
       "      <td>36.0</td>\n",
       "      <td>69.0</td>\n",
       "      <td>77.0</td>\n",
       "      <td>85.0</td>\n",
       "    </tr>\n",
       "    <tr>\n",
       "      <th>Driving_License</th>\n",
       "      <td>0.0</td>\n",
       "      <td>1.0</td>\n",
       "      <td>1.0</td>\n",
       "      <td>1.0</td>\n",
       "      <td>1.0</td>\n",
       "      <td>1.0</td>\n",
       "    </tr>\n",
       "    <tr>\n",
       "      <th>Region_Code</th>\n",
       "      <td>0.0</td>\n",
       "      <td>5.0</td>\n",
       "      <td>28.0</td>\n",
       "      <td>47.0</td>\n",
       "      <td>50.0</td>\n",
       "      <td>52.0</td>\n",
       "    </tr>\n",
       "    <tr>\n",
       "      <th>Previously_Insured</th>\n",
       "      <td>0.0</td>\n",
       "      <td>0.0</td>\n",
       "      <td>0.0</td>\n",
       "      <td>1.0</td>\n",
       "      <td>1.0</td>\n",
       "      <td>1.0</td>\n",
       "    </tr>\n",
       "    <tr>\n",
       "      <th>Annual_Premium</th>\n",
       "      <td>2630.0</td>\n",
       "      <td>2630.0</td>\n",
       "      <td>31669.0</td>\n",
       "      <td>55176.0</td>\n",
       "      <td>72963.0</td>\n",
       "      <td>212814.0</td>\n",
       "    </tr>\n",
       "    <tr>\n",
       "      <th>Policy_Sales_Channel</th>\n",
       "      <td>1.0</td>\n",
       "      <td>26.0</td>\n",
       "      <td>133.0</td>\n",
       "      <td>160.0</td>\n",
       "      <td>160.0</td>\n",
       "      <td>163.0</td>\n",
       "    </tr>\n",
       "    <tr>\n",
       "      <th>Vintage</th>\n",
       "      <td>10.0</td>\n",
       "      <td>24.0</td>\n",
       "      <td>154.0</td>\n",
       "      <td>285.0</td>\n",
       "      <td>297.0</td>\n",
       "      <td>299.0</td>\n",
       "    </tr>\n",
       "    <tr>\n",
       "      <th>Response</th>\n",
       "      <td>0.0</td>\n",
       "      <td>0.0</td>\n",
       "      <td>0.0</td>\n",
       "      <td>1.0</td>\n",
       "      <td>1.0</td>\n",
       "      <td>1.0</td>\n",
       "    </tr>\n",
       "  </tbody>\n",
       "</table>\n",
       "</div>"
      ],
      "text/plain": [
       "                        0.00    0.05     0.50     0.95     0.99      1.00\n",
       "Age                     20.0    21.0     36.0     69.0     77.0      85.0\n",
       "Driving_License          0.0     1.0      1.0      1.0      1.0       1.0\n",
       "Region_Code              0.0     5.0     28.0     47.0     50.0      52.0\n",
       "Previously_Insured       0.0     0.0      0.0      1.0      1.0       1.0\n",
       "Annual_Premium        2630.0  2630.0  31669.0  55176.0  72963.0  212814.0\n",
       "Policy_Sales_Channel     1.0    26.0    133.0    160.0    160.0     163.0\n",
       "Vintage                 10.0    24.0    154.0    285.0    297.0     299.0\n",
       "Response                 0.0     0.0      0.0      1.0      1.0       1.0"
      ]
     },
     "execution_count": 29,
     "metadata": {},
     "output_type": "execute_result"
    }
   ],
   "source": [
    "train.drop(\"id\",axis =1).quantile([0, 0.05, 0.50, 0.95, 0.99, 1]).T"
   ]
  },
  {
   "cell_type": "markdown",
   "id": "99d3ed5a",
   "metadata": {},
   "source": [
    "### CORRELATION ANALYSIS"
   ]
  },
  {
   "cell_type": "code",
   "execution_count": 30,
   "id": "9b6493e8",
   "metadata": {},
   "outputs": [
    {
     "data": {
      "text/html": [
       "<div>\n",
       "<style scoped>\n",
       "    .dataframe tbody tr th:only-of-type {\n",
       "        vertical-align: middle;\n",
       "    }\n",
       "\n",
       "    .dataframe tbody tr th {\n",
       "        vertical-align: top;\n",
       "    }\n",
       "\n",
       "    .dataframe thead th {\n",
       "        text-align: right;\n",
       "    }\n",
       "</style>\n",
       "<table border=\"1\" class=\"dataframe\">\n",
       "  <thead>\n",
       "    <tr style=\"text-align: right;\">\n",
       "      <th></th>\n",
       "      <th>1</th>\n",
       "      <th>2</th>\n",
       "      <th>corr</th>\n",
       "    </tr>\n",
       "  </thead>\n",
       "  <tbody>\n",
       "    <tr>\n",
       "      <th>0</th>\n",
       "      <td>Policy_Sales_Channel</td>\n",
       "      <td>Age</td>\n",
       "      <td>-0.890519</td>\n",
       "    </tr>\n",
       "    <tr>\n",
       "      <th>36</th>\n",
       "      <td>id</td>\n",
       "      <td>id</td>\n",
       "      <td>1.000000</td>\n",
       "    </tr>\n",
       "  </tbody>\n",
       "</table>\n",
       "</div>"
      ],
      "text/plain": [
       "                       1    2      corr\n",
       "0   Policy_Sales_Channel  Age -0.890519\n",
       "36                    id   id  1.000000"
      ]
     },
     "execution_count": 30,
     "metadata": {},
     "output_type": "execute_result"
    },
    {
     "data": {
      "image/png": "[encoded data removed]",
      "text/plain": [
       "<Figure size 864x648 with 2 Axes>"
      ]
     },
     "metadata": {},
     "output_type": "display_data"
    }
   ],
   "source": [
    "df.corrwith(train[\"Response\"]).sort_values(ascending=False)\n",
    "corr_df = train.corr()\n",
    "plt.figure(figsize=(12, 9))\n",
    "sns.heatmap(corr_df, annot=True, xticklabels=corr_df.columns, yticklabels=corr_df.columns)\n",
    "\n",
    "corr_df = corr_df.corr().unstack().sort_values().drop_duplicates()\n",
    "corr_df = pd.DataFrame(corr_df, columns=[\"corr\"])\n",
    "corr_df.index.names = ['1', '2']\n",
    "corr_df = corr_df.reset_index()\n",
    "corr_df.sort_values(by=\"corr\", ascending=True).head(30)\n",
    "\n",
    "high_corr = corr_df[(corr_df[\"corr\"] >= 0.70) | (corr_df[\"corr\"] <= -0.70)]\n",
    "high_corr"
   ]
  },
  {
   "cell_type": "markdown",
   "id": "e0f528d5",
   "metadata": {},
   "source": [
    "### FEATURE ENGINEERING"
   ]
  },
  {
   "cell_type": "markdown",
   "id": "a77cd6f2",
   "metadata": {},
   "source": [
    "#### TRAIN SET "
   ]
  },
  {
   "cell_type": "code",
   "execution_count": 31,
   "id": "763c3e5d",
   "metadata": {},
   "outputs": [],
   "source": [
    "num_feat = ['Age','Vintage']\n",
    "cat_feat = ['Gender', 'Driving_License', 'Previously_Insured', 'Vehicle_Age_lt_1_Year','Vehicle_Age_gt_2_Years','Vehicle_Damage_Yes']"
   ]
  },
  {
   "cell_type": "code",
   "execution_count": 32,
   "id": "2edbe296",
   "metadata": {},
   "outputs": [],
   "source": [
    "train['Gender'] = train['Gender'].map( {'Female': 0, 'Male': 1} ).astype(int)"
   ]
  },
  {
   "cell_type": "code",
   "execution_count": 33,
   "id": "e01510ac",
   "metadata": {},
   "outputs": [],
   "source": [
    "train=pd.get_dummies(train,drop_first=True)"
   ]
  },
  {
   "cell_type": "code",
   "execution_count": 34,
   "id": "a9728b15",
   "metadata": {},
   "outputs": [],
   "source": [
    "train=train.rename(columns={\"Vehicle_Age_< 1 Year\": \"Vehicle_Age_lt_1_Year\", \"Vehicle_Age_> 2 Years\": \"Vehicle_Age_gt_2_Years\"})\n",
    "train['Vehicle_Age_lt_1_Year']=train['Vehicle_Age_lt_1_Year'].astype('int')\n",
    "train['Vehicle_Age_gt_2_Years']=train['Vehicle_Age_gt_2_Years'].astype('int')\n",
    "train['Vehicle_Damage_Yes']=train['Vehicle_Damage_Yes'].astype('int')"
   ]
  },
  {
   "cell_type": "code",
   "execution_count": 35,
   "id": "c8b498a3",
   "metadata": {},
   "outputs": [],
   "source": [
    "ss = StandardScaler()\n",
    "train[num_feat] = ss.fit_transform(train[num_feat])\n",
    "\n",
    "mm = MinMaxScaler()\n",
    "train[['Annual_Premium']] = mm.fit_transform(train[['Annual_Premium']])"
   ]
  },
  {
   "cell_type": "code",
   "execution_count": 36,
   "id": "c7f0c316",
   "metadata": {},
   "outputs": [],
   "source": [
    "train = train.drop('id', axis=1)"
   ]
  },
  {
   "cell_type": "code",
   "execution_count": 37,
   "id": "a2239b60",
   "metadata": {},
   "outputs": [],
   "source": [
    "for col in cat_feat:\n",
    "    train[col] = train[col].astype('str') "
   ]
  },
  {
   "cell_type": "code",
   "execution_count": 38,
   "id": "2aa91ddf",
   "metadata": {},
   "outputs": [
    {
     "data": {
      "text/html": [
       "<div>\n",
       "<style scoped>\n",
       "    .dataframe tbody tr th:only-of-type {\n",
       "        vertical-align: middle;\n",
       "    }\n",
       "\n",
       "    .dataframe tbody tr th {\n",
       "        vertical-align: top;\n",
       "    }\n",
       "\n",
       "    .dataframe thead th {\n",
       "        text-align: right;\n",
       "    }\n",
       "</style>\n",
       "<table border=\"1\" class=\"dataframe\">\n",
       "  <thead>\n",
       "    <tr style=\"text-align: right;\">\n",
       "      <th></th>\n",
       "      <th>Gender</th>\n",
       "      <th>Age</th>\n",
       "      <th>Driving_License</th>\n",
       "      <th>Region_Code</th>\n",
       "      <th>Previously_Insured</th>\n",
       "      <th>Annual_Premium</th>\n",
       "      <th>Policy_Sales_Channel</th>\n",
       "      <th>Vintage</th>\n",
       "      <th>Response</th>\n",
       "      <th>Vehicle_Age_lt_1_Year</th>\n",
       "      <th>Vehicle_Age_gt_2_Years</th>\n",
       "      <th>Vehicle_Damage_Yes</th>\n",
       "    </tr>\n",
       "  </thead>\n",
       "  <tbody>\n",
       "    <tr>\n",
       "      <th>0</th>\n",
       "      <td>1</td>\n",
       "      <td>0.333777</td>\n",
       "      <td>1</td>\n",
       "      <td>28.0</td>\n",
       "      <td>0</td>\n",
       "      <td>0.179957</td>\n",
       "      <td>26.0</td>\n",
       "      <td>0.748795</td>\n",
       "      <td>1</td>\n",
       "      <td>0</td>\n",
       "      <td>1</td>\n",
       "      <td>1</td>\n",
       "    </tr>\n",
       "    <tr>\n",
       "      <th>1</th>\n",
       "      <td>1</td>\n",
       "      <td>2.396751</td>\n",
       "      <td>1</td>\n",
       "      <td>3.0</td>\n",
       "      <td>0</td>\n",
       "      <td>0.147043</td>\n",
       "      <td>26.0</td>\n",
       "      <td>0.342443</td>\n",
       "      <td>0</td>\n",
       "      <td>0</td>\n",
       "      <td>0</td>\n",
       "      <td>0</td>\n",
       "    </tr>\n",
       "    <tr>\n",
       "      <th>2</th>\n",
       "      <td>1</td>\n",
       "      <td>0.527181</td>\n",
       "      <td>1</td>\n",
       "      <td>28.0</td>\n",
       "      <td>0</td>\n",
       "      <td>0.169680</td>\n",
       "      <td>26.0</td>\n",
       "      <td>-1.521998</td>\n",
       "      <td>1</td>\n",
       "      <td>0</td>\n",
       "      <td>1</td>\n",
       "      <td>1</td>\n",
       "    </tr>\n",
       "    <tr>\n",
       "      <th>3</th>\n",
       "      <td>1</td>\n",
       "      <td>-1.148985</td>\n",
       "      <td>1</td>\n",
       "      <td>11.0</td>\n",
       "      <td>1</td>\n",
       "      <td>0.123649</td>\n",
       "      <td>152.0</td>\n",
       "      <td>0.581474</td>\n",
       "      <td>0</td>\n",
       "      <td>1</td>\n",
       "      <td>0</td>\n",
       "      <td>0</td>\n",
       "    </tr>\n",
       "    <tr>\n",
       "      <th>4</th>\n",
       "      <td>0</td>\n",
       "      <td>-0.633242</td>\n",
       "      <td>1</td>\n",
       "      <td>41.0</td>\n",
       "      <td>1</td>\n",
       "      <td>0.118306</td>\n",
       "      <td>152.0</td>\n",
       "      <td>-1.378580</td>\n",
       "      <td>0</td>\n",
       "      <td>1</td>\n",
       "      <td>0</td>\n",
       "      <td>0</td>\n",
       "    </tr>\n",
       "  </tbody>\n",
       "</table>\n",
       "</div>"
      ],
      "text/plain": [
       "  Gender       Age Driving_License  Region_Code Previously_Insured  \\\n",
       "0      1  0.333777               1         28.0                  0   \n",
       "1      1  2.396751               1          3.0                  0   \n",
       "2      1  0.527181               1         28.0                  0   \n",
       "3      1 -1.148985               1         11.0                  1   \n",
       "4      0 -0.633242               1         41.0                  1   \n",
       "\n",
       "   Annual_Premium  Policy_Sales_Channel   Vintage  Response  \\\n",
       "0        0.179957                  26.0  0.748795         1   \n",
       "1        0.147043                  26.0  0.342443         0   \n",
       "2        0.169680                  26.0 -1.521998         1   \n",
       "3        0.123649                 152.0  0.581474         0   \n",
       "4        0.118306                 152.0 -1.378580         0   \n",
       "\n",
       "  Vehicle_Age_lt_1_Year Vehicle_Age_gt_2_Years Vehicle_Damage_Yes  \n",
       "0                     0                      1                  1  \n",
       "1                     0                      0                  0  \n",
       "2                     0                      1                  1  \n",
       "3                     1                      0                  0  \n",
       "4                     1                      0                  0  "
      ]
     },
     "execution_count": 38,
     "metadata": {},
     "output_type": "execute_result"
    }
   ],
   "source": [
    "train.head()"
   ]
  },
  {
   "cell_type": "markdown",
   "id": "5f810086",
   "metadata": {},
   "source": [
    "#### TEST SET"
   ]
  },
  {
   "cell_type": "code",
   "execution_count": 39,
   "id": "7513e1a1",
   "metadata": {},
   "outputs": [],
   "source": [
    "test['Gender'] = test['Gender'].map( {'Female': 0, 'Male': 1} ).astype(int)\n",
    "test=pd.get_dummies(test,drop_first=True)\n",
    "test=test.rename(columns={\"Vehicle_Age_< 1 Year\": \"Vehicle_Age_lt_1_Year\", \"Vehicle_Age_> 2 Years\": \"Vehicle_Age_gt_2_Years\"})\n",
    "test['Vehicle_Age_lt_1_Year']=test['Vehicle_Age_lt_1_Year'].astype('int')\n",
    "test['Vehicle_Age_gt_2_Years']=test['Vehicle_Age_gt_2_Years'].astype('int')\n",
    "test['Vehicle_Damage_Yes']=test['Vehicle_Damage_Yes'].astype('int')"
   ]
  },
  {
   "cell_type": "code",
   "execution_count": 40,
   "id": "f3f2bb07",
   "metadata": {},
   "outputs": [],
   "source": [
    "test[num_feat] = ss.fit_transform(test[num_feat])\n",
    "\n",
    "test[['Annual_Premium']] = mm.fit_transform(test[['Annual_Premium']])"
   ]
  },
  {
   "cell_type": "code",
   "execution_count": 41,
   "id": "72bc46d7",
   "metadata": {},
   "outputs": [],
   "source": [
    "for col in cat_feat:\n",
    "    test[col] = test[col].astype('str')"
   ]
  },
  {
   "cell_type": "markdown",
   "id": "f6dad265",
   "metadata": {},
   "source": [
    "#### TRAIN-TEST SPLIT"
   ]
  },
  {
   "cell_type": "code",
   "execution_count": 42,
   "id": "47bad6cc",
   "metadata": {},
   "outputs": [],
   "source": [
    "target = train['Response']\n",
    "train = train.drop(['Response'], axis=1)\n",
    "x_train, x_test, y_train, y_test = train_test_split(train, target, test_size=0.2, random_state=0)"
   ]
  },
  {
   "cell_type": "code",
   "execution_count": 43,
   "id": "7ed94779",
   "metadata": {},
   "outputs": [],
   "source": [
    "id=test.id"
   ]
  },
  {
   "cell_type": "code",
   "execution_count": 44,
   "id": "28a62a1b",
   "metadata": {},
   "outputs": [],
   "source": [
    "test = test.drop('id', axis=1)"
   ]
  },
  {
   "cell_type": "code",
   "execution_count": 45,
   "id": "9a111d05",
   "metadata": {},
   "outputs": [
    {
     "data": {
      "text/plain": [
       "Index(['Gender', 'Age', 'Driving_License', 'Region_Code', 'Previously_Insured',\n",
       "       'Annual_Premium', 'Policy_Sales_Channel', 'Vintage',\n",
       "       'Vehicle_Age_lt_1_Year', 'Vehicle_Age_gt_2_Years',\n",
       "       'Vehicle_Damage_Yes'],\n",
       "      dtype='object')"
      ]
     },
     "execution_count": 45,
     "metadata": {},
     "output_type": "execute_result"
    }
   ],
   "source": [
    "x_train.columns"
   ]
  },
  {
   "cell_type": "markdown",
   "id": "cd8bf5a4",
   "metadata": {},
   "source": [
    "## MODEL BUILDING AND EVALUATION"
   ]
  },
  {
   "cell_type": "code",
   "execution_count": 46,
   "id": "65f88883",
   "metadata": {},
   "outputs": [
    {
     "name": "stdout",
     "output_type": "stream",
     "text": [
      "Requirement already satisfied: hyperopt in d:\\python310\\lib\\site-packages (0.2.7)\n",
      "Requirement already satisfied: future in d:\\python310\\lib\\site-packages (from hyperopt) (0.18.2)\n",
      "Requirement already satisfied: networkx>=2.2 in d:\\python310\\lib\\site-packages (from hyperopt) (2.8.7)\n",
      "Requirement already satisfied: six in d:\\python310\\lib\\site-packages (from hyperopt) (1.16.0)\n",
      "Requirement already satisfied: numpy in d:\\python310\\lib\\site-packages (from hyperopt) (1.22.3)\n",
      "Requirement already satisfied: py4j in d:\\python310\\lib\\site-packages (from hyperopt) (0.10.9.7)\n",
      "Requirement already satisfied: scipy in d:\\python310\\lib\\site-packages (from hyperopt) (1.8.0)\n",
      "Requirement already satisfied: cloudpickle in d:\\python310\\lib\\site-packages (from hyperopt) (2.1.0)\n",
      "Requirement already satisfied: tqdm in d:\\python310\\lib\\site-packages (from hyperopt) (4.64.0)\n",
      "Requirement already satisfied: colorama in d:\\python310\\lib\\site-packages (from tqdm->hyperopt) (0.4.5)\n"
     ]
    },
    {
     "name": "stderr",
     "output_type": "stream",
     "text": [
      "WARNING: Ignoring invalid distribution -p (d:\\python310\\lib\\site-packages)\n",
      "WARNING: Ignoring invalid distribution -rotobuf (d:\\python310\\lib\\site-packages)\n",
      "WARNING: Ignoring invalid distribution -ip (d:\\python310\\lib\\site-packages)\n",
      "WARNING: Ignoring invalid distribution - (d:\\python310\\lib\\site-packages)\n",
      "WARNING: Ignoring invalid distribution -p (d:\\python310\\lib\\site-packages)\n",
      "WARNING: Ignoring invalid distribution -rotobuf (d:\\python310\\lib\\site-packages)\n",
      "WARNING: Ignoring invalid distribution -ip (d:\\python310\\lib\\site-packages)\n",
      "WARNING: Ignoring invalid distribution - (d:\\python310\\lib\\site-packages)\n",
      "WARNING: Ignoring invalid distribution -p (d:\\python310\\lib\\site-packages)\n",
      "WARNING: Ignoring invalid distribution -rotobuf (d:\\python310\\lib\\site-packages)\n",
      "WARNING: Ignoring invalid distribution -ip (d:\\python310\\lib\\site-packages)\n",
      "WARNING: Ignoring invalid distribution - (d:\\python310\\lib\\site-packages)\n",
      "WARNING: Ignoring invalid distribution -p (d:\\python310\\lib\\site-packages)\n",
      "WARNING: Ignoring invalid distribution -rotobuf (d:\\python310\\lib\\site-packages)\n",
      "WARNING: Ignoring invalid distribution -ip (d:\\python310\\lib\\site-packages)\n",
      "WARNING: Ignoring invalid distribution - (d:\\python310\\lib\\site-packages)\n",
      "WARNING: Ignoring invalid distribution -p (d:\\python310\\lib\\site-packages)\n",
      "WARNING: Ignoring invalid distribution -rotobuf (d:\\python310\\lib\\site-packages)\n",
      "WARNING: Ignoring invalid distribution -ip (d:\\python310\\lib\\site-packages)\n",
      "WARNING: Ignoring invalid distribution - (d:\\python310\\lib\\site-packages)\n",
      "WARNING: Ignoring invalid distribution -p (d:\\python310\\lib\\site-packages)\n",
      "WARNING: Ignoring invalid distribution -rotobuf (d:\\python310\\lib\\site-packages)\n",
      "WARNING: Ignoring invalid distribution -ip (d:\\python310\\lib\\site-packages)\n",
      "WARNING: Ignoring invalid distribution - (d:\\python310\\lib\\site-packages)\n",
      "\n",
      "[notice] A new release of pip available: 22.2.2 -> 22.3.1\n",
      "[notice] To update, run: python.exe -m pip install --upgrade pip\n"
     ]
    }
   ],
   "source": [
    "!pip install hyperopt"
   ]
  },
  {
   "cell_type": "code",
   "execution_count": 47,
   "id": "c512e06b",
   "metadata": {},
   "outputs": [],
   "source": [
    "# Import packages for model building\n",
    "from sklearn.model_selection import RandomizedSearchCV\n",
    "from sklearn.model_selection import cross_val_score\n",
    "from sklearn.ensemble import RandomForestClassifier\n",
    "from catboost import CatBoostClassifier\n",
    "from scipy.stats import randint\n",
    "import pickle\n",
    "import xgboost as xgb\n",
    "import lightgbm as lgb\n",
    "from sklearn.metrics import accuracy_score\n",
    "\n",
    "# import packages for hyperparameters tuning\n",
    "from hyperopt import STATUS_OK, Trials, fmin, hp, tpe\n",
    "from sklearn.model_selection import train_test_split, RandomizedSearchCV, StratifiedKFold, KFold, GridSearchCV\n",
    "from sklearn.metrics import f1_score, roc_auc_score,accuracy_score,confusion_matrix, precision_recall_curve, auc, roc_curve, recall_score, classification_report "
   ]
  },
  {
   "cell_type": "markdown",
   "id": "56973ecd",
   "metadata": {},
   "source": [
    "### 1.0 RANDOM FOREST CLASSIFIER"
   ]
  },
  {
   "cell_type": "code",
   "execution_count": 48,
   "id": "e4551d90",
   "metadata": {},
   "outputs": [
    {
     "data": {
      "text/plain": [
       "Gender                     object\n",
       "Age                       float64\n",
       "Driving_License            object\n",
       "Region_Code               float64\n",
       "Previously_Insured         object\n",
       "Annual_Premium            float64\n",
       "Policy_Sales_Channel      float64\n",
       "Vintage                   float64\n",
       "Vehicle_Age_lt_1_Year      object\n",
       "Vehicle_Age_gt_2_Years     object\n",
       "Vehicle_Damage_Yes         object\n",
       "dtype: object"
      ]
     },
     "execution_count": 48,
     "metadata": {},
     "output_type": "execute_result"
    }
   ],
   "source": [
    "x_train.dtypes"
   ]
  },
  {
   "cell_type": "code",
   "execution_count": 49,
   "id": "dfff2995",
   "metadata": {
    "scrolled": true
   },
   "outputs": [
    {
     "name": "stdout",
     "output_type": "stream",
     "text": [
      "Fitting 4 folds for each of 10 candidates, totalling 40 fits\n"
     ]
    },
    {
     "data": {
      "text/html": [
       "<style>#sk-container-id-1 {color: black;background-color: white;}#sk-container-id-1 pre{padding: 0;}#sk-container-id-1 div.sk-toggleable {background-color: white;}#sk-container-id-1 label.sk-toggleable__label {cursor: pointer;display: block;width: 100%;margin-bottom: 0;padding: 0.3em;box-sizing: border-box;text-align: center;}#sk-container-id-1 label.sk-toggleable__label-arrow:before {content: \"▸\";float: left;margin-right: 0.25em;color: #696969;}#sk-container-id-1 label.sk-toggleable__label-arrow:hover:before {color: black;}#sk-container-id-1 div.sk-estimator:hover label.sk-toggleable__label-arrow:before {color: black;}#sk-container-id-1 div.sk-toggleable__content {max-height: 0;max-width: 0;overflow: hidden;text-align: left;background-color: #f0f8ff;}#sk-container-id-1 div.sk-toggleable__content pre {margin: 0.2em;color: black;border-radius: 0.25em;background-color: #f0f8ff;}#sk-container-id-1 input.sk-toggleable__control:checked~div.sk-toggleable__content {max-height: 200px;max-width: 100%;overflow: auto;}#sk-container-id-1 input.sk-toggleable__control:checked~label.sk-toggleable__label-arrow:before {content: \"▾\";}#sk-container-id-1 div.sk-estimator input.sk-toggleable__control:checked~label.sk-toggleable__label {background-color: #d4ebff;}#sk-container-id-1 div.sk-label input.sk-toggleable__control:checked~label.sk-toggleable__label {background-color: #d4ebff;}#sk-container-id-1 input.sk-hidden--visually {border: 0;clip: rect(1px 1px 1px 1px);clip: rect(1px, 1px, 1px, 1px);height: 1px;margin: -1px;overflow: hidden;padding: 0;position: absolute;width: 1px;}#sk-container-id-1 div.sk-estimator {font-family: monospace;background-color: #f0f8ff;border: 1px dotted black;border-radius: 0.25em;box-sizing: border-box;margin-bottom: 0.5em;}#sk-container-id-1 div.sk-estimator:hover {background-color: #d4ebff;}#sk-container-id-1 div.sk-parallel-item::after {content: \"\";width: 100%;border-bottom: 1px solid gray;flex-grow: 1;}#sk-container-id-1 div.sk-label:hover label.sk-toggleable__label {background-color: #d4ebff;}#sk-container-id-1 div.sk-serial::before {content: \"\";position: absolute;border-left: 1px solid gray;box-sizing: border-box;top: 0;bottom: 0;left: 50%;z-index: 0;}#sk-container-id-1 div.sk-serial {display: flex;flex-direction: column;align-items: center;background-color: white;padding-right: 0.2em;padding-left: 0.2em;position: relative;}#sk-container-id-1 div.sk-item {position: relative;z-index: 1;}#sk-container-id-1 div.sk-parallel {display: flex;align-items: stretch;justify-content: center;background-color: white;position: relative;}#sk-container-id-1 div.sk-item::before, #sk-container-id-1 div.sk-parallel-item::before {content: \"\";position: absolute;border-left: 1px solid gray;box-sizing: border-box;top: 0;bottom: 0;left: 50%;z-index: -1;}#sk-container-id-1 div.sk-parallel-item {display: flex;flex-direction: column;z-index: 1;position: relative;background-color: white;}#sk-container-id-1 div.sk-parallel-item:first-child::after {align-self: flex-end;width: 50%;}#sk-container-id-1 div.sk-parallel-item:last-child::after {align-self: flex-start;width: 50%;}#sk-container-id-1 div.sk-parallel-item:only-child::after {width: 0;}#sk-container-id-1 div.sk-dashed-wrapped {border: 1px dashed gray;margin: 0 0.4em 0.5em 0.4em;box-sizing: border-box;padding-bottom: 0.4em;background-color: white;}#sk-container-id-1 div.sk-label label {font-family: monospace;font-weight: bold;display: inline-block;line-height: 1.2em;}#sk-container-id-1 div.sk-label-container {text-align: center;}#sk-container-id-1 div.sk-container {/* jupyter's `normalize.less` sets `[hidden] { display: none; }` but bootstrap.min.css set `[hidden] { display: none !important; }` so we also need the `!important` here to be able to override the default hidden behavior on the sphinx rendered scikit-learn.org. See: https://github.com/scikit-learn/scikit-learn/issues/21755 */display: inline-block !important;position: relative;}#sk-container-id-1 div.sk-text-repr-fallback {display: none;}</style><div id=\"sk-container-id-1\" class=\"sk-top-container\"><div class=\"sk-text-repr-fallback\"><pre>RandomizedSearchCV(cv=4, estimator=RandomForestClassifier(), n_jobs=-1,\n",
       "                   param_distributions={&#x27;criterion&#x27;: [&#x27;entropy&#x27;, &#x27;gini&#x27;],\n",
       "                                        &#x27;max_depth&#x27;: [2, 3, 4, 5, 6, 7, 10],\n",
       "                                        &#x27;min_samples_leaf&#x27;: [4, 6, 8],\n",
       "                                        &#x27;min_samples_split&#x27;: [5, 7, 10],\n",
       "                                        &#x27;n_estimators&#x27;: [300]},\n",
       "                   random_state=42, verbose=1)</pre><b>In a Jupyter environment, please rerun this cell to show the HTML representation or trust the notebook. <br />On GitHub, the HTML representation is unable to render, please try loading this page with nbviewer.org.</b></div><div class=\"sk-container\" hidden><div class=\"sk-item sk-dashed-wrapped\"><div class=\"sk-label-container\"><div class=\"sk-label sk-toggleable\"><input class=\"sk-toggleable__control sk-hidden--visually\" id=\"sk-estimator-id-1\" type=\"checkbox\" ><label for=\"sk-estimator-id-1\" class=\"sk-toggleable__label sk-toggleable__label-arrow\">RandomizedSearchCV</label><div class=\"sk-toggleable__content\"><pre>RandomizedSearchCV(cv=4, estimator=RandomForestClassifier(), n_jobs=-1,\n",
       "                   param_distributions={&#x27;criterion&#x27;: [&#x27;entropy&#x27;, &#x27;gini&#x27;],\n",
       "                                        &#x27;max_depth&#x27;: [2, 3, 4, 5, 6, 7, 10],\n",
       "                                        &#x27;min_samples_leaf&#x27;: [4, 6, 8],\n",
       "                                        &#x27;min_samples_split&#x27;: [5, 7, 10],\n",
       "                                        &#x27;n_estimators&#x27;: [300]},\n",
       "                   random_state=42, verbose=1)</pre></div></div></div><div class=\"sk-parallel\"><div class=\"sk-parallel-item\"><div class=\"sk-item\"><div class=\"sk-label-container\"><div class=\"sk-label sk-toggleable\"><input class=\"sk-toggleable__control sk-hidden--visually\" id=\"sk-estimator-id-2\" type=\"checkbox\" ><label for=\"sk-estimator-id-2\" class=\"sk-toggleable__label sk-toggleable__label-arrow\">estimator: RandomForestClassifier</label><div class=\"sk-toggleable__content\"><pre>RandomForestClassifier()</pre></div></div></div><div class=\"sk-serial\"><div class=\"sk-item\"><div class=\"sk-estimator sk-toggleable\"><input class=\"sk-toggleable__control sk-hidden--visually\" id=\"sk-estimator-id-3\" type=\"checkbox\" ><label for=\"sk-estimator-id-3\" class=\"sk-toggleable__label sk-toggleable__label-arrow\">RandomForestClassifier</label><div class=\"sk-toggleable__content\"><pre>RandomForestClassifier()</pre></div></div></div></div></div></div></div></div></div></div>"
      ],
      "text/plain": [
       "RandomizedSearchCV(cv=4, estimator=RandomForestClassifier(), n_jobs=-1,\n",
       "                   param_distributions={'criterion': ['entropy', 'gini'],\n",
       "                                        'max_depth': [2, 3, 4, 5, 6, 7, 10],\n",
       "                                        'min_samples_leaf': [4, 6, 8],\n",
       "                                        'min_samples_split': [5, 7, 10],\n",
       "                                        'n_estimators': [300]},\n",
       "                   random_state=42, verbose=1)"
      ]
     },
     "execution_count": 49,
     "metadata": {},
     "output_type": "execute_result"
    }
   ],
   "source": [
    "random_search = {'criterion': ['entropy', 'gini'],\n",
    "               'max_depth': [2,3,4,5,6,7,10],\n",
    "               'min_samples_leaf': [4, 6, 8],\n",
    "               'min_samples_split': [5, 7,10],\n",
    "               'n_estimators': [300]}\n",
    "\n",
    "clf = RandomForestClassifier()\n",
    "rf_model = RandomizedSearchCV(estimator = clf, \n",
    "                           param_distributions = random_search, \n",
    "                           n_iter = 10,\n",
    "                           cv = 4, \n",
    "                           verbose= 1, \n",
    "                           random_state= 42, \n",
    "                           n_jobs = -1)\n",
    "rf_model.fit(x_train,y_train)"
   ]
  },
  {
   "cell_type": "markdown",
   "id": "c1598b13",
   "metadata": {},
   "source": [
    "#### 1.1 SAVING THE TRAINED MODEL"
   ]
  },
  {
   "cell_type": "code",
   "execution_count": 50,
   "id": "0c73564d",
   "metadata": {},
   "outputs": [],
   "source": [
    "filename = 'RF_MODEL.sav'\n",
    "pickle.dump(rf_model, open(filename, 'wb'))"
   ]
  },
  {
   "cell_type": "code",
   "execution_count": 51,
   "id": "18ab00e2",
   "metadata": {},
   "outputs": [],
   "source": [
    "filename = 'RF_MODEL.sav'"
   ]
  },
  {
   "cell_type": "code",
   "execution_count": 52,
   "id": "d2e36c3a",
   "metadata": {},
   "outputs": [],
   "source": [
    "rf_load = pickle.load(open(filename, 'rb'))"
   ]
  },
  {
   "cell_type": "markdown",
   "id": "49e7c7d3",
   "metadata": {},
   "source": [
    "#### 1.2 MODEL EVALUATION"
   ]
  },
  {
   "cell_type": "code",
   "execution_count": 53,
   "id": "1b1859dc",
   "metadata": {},
   "outputs": [],
   "source": [
    "y_pred_rf = rf_model.predict(x_test)"
   ]
  },
  {
   "cell_type": "code",
   "execution_count": 54,
   "id": "d8cfac53",
   "metadata": {},
   "outputs": [
    {
     "name": "stdout",
     "output_type": "stream",
     "text": [
      "Random Forest Accuracy: 87.70%\n"
     ]
    }
   ],
   "source": [
    "predictions_rf = [round(value) for value in y_pred_rf]\n",
    "accuracy_rf = accuracy_score(y_test, predictions_rf)\n",
    "print(\"Random Forest Accuracy: %.2f%%\" % (accuracy_rf * 100.0))"
   ]
  },
  {
   "cell_type": "markdown",
   "id": "90159691",
   "metadata": {},
   "source": [
    "#### 1.3 CLASSIFICATION REPORT"
   ]
  },
  {
   "cell_type": "code",
   "execution_count": 56,
   "id": "41c09722",
   "metadata": {},
   "outputs": [
    {
     "name": "stdout",
     "output_type": "stream",
     "text": [
      "              precision    recall  f1-score   support\n",
      "\n",
      "           0       0.88      1.00      0.93     66846\n",
      "           1       0.56      0.00      0.00      9376\n",
      "\n",
      "    accuracy                           0.88     76222\n",
      "   macro avg       0.72      0.50      0.47     76222\n",
      "weighted avg       0.84      0.88      0.82     76222\n",
      "\n"
     ]
    }
   ],
   "source": [
    "print(classification_report(y_test, y_pred_rf))"
   ]
  },
  {
   "cell_type": "markdown",
   "id": "5cbccdd8",
   "metadata": {},
   "source": [
    "#### 1.4 ROC CURVE & AUC OF RANDOM FOREST CLASSIFIER"
   ]
  },
  {
   "cell_type": "code",
   "execution_count": 57,
   "id": "c551d793",
   "metadata": {},
   "outputs": [
    {
     "data": {
      "image/png": "[encoded data removed]",
      "text/plain": [
       "<Figure size 432x288 with 1 Axes>"
      ]
     },
     "metadata": {},
     "output_type": "display_data"
    },
    {
     "name": "stdout",
     "output_type": "stream",
     "text": [
      "Area under curve (AUC): 0.8550950723590232\n"
     ]
    }
   ],
   "source": [
    "y_score = rf_model.predict_proba(x_test)[:,1]\n",
    "fpr, tpr, _ = roc_curve(y_test, y_score)\n",
    "\n",
    "plt.title('Random Forest ROC curve: Health Insurance')\n",
    "plt.xlabel('FPR (Precision)')\n",
    "plt.ylabel('TPR (Recall)')\n",
    "\n",
    "plt.plot(fpr, tpr)\n",
    "plt.plot((0, 1), ls='dashed', color='black')\n",
    "plt.show()\n",
    "print('Area under curve (AUC):', auc(fpr, tpr))"
   ]
  },
  {
   "cell_type": "code",
   "execution_count": 58,
   "id": "25f3fd99",
   "metadata": {},
   "outputs": [
    {
     "data": {
      "text/plain": [
       "0.8550950723590232"
      ]
     },
     "execution_count": 58,
     "metadata": {},
     "output_type": "execute_result"
    }
   ],
   "source": [
    "roc_auc_score(y_test, y_score)"
   ]
  },
  {
   "cell_type": "markdown",
   "id": "a8862d24",
   "metadata": {},
   "source": [
    "### 2.0 XGBOOST CLASSIFIER"
   ]
  },
  {
   "cell_type": "code",
   "execution_count": 59,
   "id": "c0a08299",
   "metadata": {},
   "outputs": [],
   "source": [
    "for column in cat_feat:\n",
    "    x_train[column] = x_train[column].astype('int')\n",
    "    x_test[column] = x_test[column].astype('int')"
   ]
  },
  {
   "cell_type": "code",
   "execution_count": 60,
   "id": "a913f14b",
   "metadata": {},
   "outputs": [],
   "source": [
    "space={ 'max_depth': hp.quniform(\"max_depth\", 3,18,1),\n",
    "        'gamma': hp.uniform ('gamma', 1,9),\n",
    "        'reg_alpha' : hp.quniform('reg_alpha', 40,180,1),\n",
    "        'reg_lambda' : hp.uniform('reg_lambda', 0,1),\n",
    "        'colsample_bytree' : hp.uniform('colsample_bytree', 0.5,1),\n",
    "        'min_child_weight' : hp.quniform('min_child_weight', 0, 10, 1),\n",
    "        'n_estimators': 300,\n",
    "        'seed': 0\n",
    "      }"
   ]
  },
  {
   "cell_type": "code",
   "execution_count": 61,
   "id": "39c39814",
   "metadata": {},
   "outputs": [],
   "source": [
    "def model_processing(space):\n",
    "    clf=xgb.XGBClassifier(\n",
    "                    n_estimators =space['n_estimators'], max_depth = int(space['max_depth']), gamma = space['gamma'],\n",
    "                    reg_alpha = int(space['reg_alpha']),min_child_weight=int(space['min_child_weight']),\n",
    "                    colsample_bytree=int(space['colsample_bytree']))\n",
    "    \n",
    "    evaluation = [( x_train, y_train), ( x_test, y_test)]\n",
    "    \n",
    "    clf.fit(x_train, y_train,\n",
    "            eval_set=evaluation, eval_metric=\"auc\",\n",
    "            early_stopping_rounds=10,verbose=False)\n",
    "    \n",
    "\n",
    "    pred = clf.predict(x_test)\n",
    "    y_score = clf.predict_proba(x_test)[:,1]\n",
    "    accuracy = accuracy_score(y_test, pred>0.5)\n",
    "    Roc_Auc_Score = roc_auc_score(y_test, y_score)\n",
    "    print (\"ROC-AUC Score:\",Roc_Auc_Score)\n",
    "    print (\"SCORE:\", accuracy)\n",
    "    return {'loss': -Roc_Auc_Score, 'status': STATUS_OK }"
   ]
  },
  {
   "cell_type": "code",
   "execution_count": 62,
   "id": "d459cc5d",
   "metadata": {},
   "outputs": [],
   "source": [
    "from hyperopt import STATUS_OK, Trials, fmin, hp, tpe"
   ]
  },
  {
   "cell_type": "code",
   "execution_count": 63,
   "id": "bdc6c62f",
   "metadata": {},
   "outputs": [],
   "source": [
    "trials = Trials()"
   ]
  },
  {
   "cell_type": "code",
   "execution_count": 64,
   "id": "e04b85b0",
   "metadata": {},
   "outputs": [
    {
     "name": "stdout",
     "output_type": "stream",
     "text": [
      "ROC-AUC Score:                                                                                                         \n",
      "0.8520981482167916                                                                                                     \n",
      "SCORE:                                                                                                                 \n",
      "0.8769646558736323                                                                                                     \n",
      "ROC-AUC Score:                                                                                                         \n",
      "0.8534323788356589                                                                                                     \n",
      "SCORE:                                                                                                                 \n",
      "0.8769908950171866                                                                                                     \n",
      "ROC-AUC Score:                                                                                                         \n",
      "0.8534516672867563                                                                                                     \n",
      "SCORE:                                                                                                                 \n",
      "0.8769777754454094                                                                                                     \n",
      "ROC-AUC Score:                                                                                                         \n",
      "0.8526029475165728                                                                                                     \n",
      "SCORE:                                                                                                                 \n",
      "0.8769646558736323                                                                                                     \n",
      "ROC-AUC Score:                                                                                                         \n",
      "0.854134921057662                                                                                                      \n",
      "SCORE:                                                                                                                 \n",
      "0.8769908950171866                                                                                                     \n",
      "ROC-AUC Score:                                                                                                         \n",
      "0.85273414296898                                                                                                       \n",
      "SCORE:                                                                                                                 \n",
      "0.8769646558736323                                                                                                     \n",
      "ROC-AUC Score:                                                                                                         \n",
      "0.85409782720744                                                                                                       \n",
      "SCORE:                                                                                                                 \n",
      "0.8769777754454094                                                                                                     \n",
      "ROC-AUC Score:                                                                                                         \n",
      "0.8528468964028573                                                                                                     \n",
      "SCORE:                                                                                                                 \n",
      "0.8769646558736323                                                                                                     \n",
      "ROC-AUC Score:                                                                                                         \n",
      "0.8526384889089476                                                                                                     \n",
      "SCORE:                                                                                                                 \n",
      "0.8769646558736323                                                                                                     \n",
      "ROC-AUC Score:                                                                                                         \n",
      "0.8546502963768078                                                                                                     \n",
      "SCORE:                                                                                                                 \n",
      "0.8769908950171866                                                                                                     \n",
      "ROC-AUC Score:                                                                                                         \n",
      "0.8525532800342166                                                                                                     \n",
      "SCORE:                                                                                                                 \n",
      "0.8769646558736323                                                                                                     \n",
      "ROC-AUC Score:                                                                                                         \n",
      "0.8550336816659432                                                                                                     \n",
      "SCORE:                                                                                                                 \n",
      "0.8769646558736323                                                                                                     \n",
      "ROC-AUC Score:                                                                                                         \n",
      "0.8540506320102168                                                                                                     \n",
      "SCORE:                                                                                                                 \n",
      "0.8769777754454094                                                                                                     \n",
      "ROC-AUC Score:                                                                                                         \n",
      "0.8538992841232342                                                                                                     \n",
      "SCORE:                                                                                                                 \n",
      "0.8769908950171866                                                                                                     \n",
      "ROC-AUC Score:                                                                                                         \n",
      "0.8526884699143944                                                                                                     \n",
      "SCORE:                                                                                                                 \n",
      "0.8769646558736323                                                                                                     \n",
      "ROC-AUC Score:                                                                                                         \n",
      "0.8543923243127012                                                                                                     \n",
      "SCORE:                                                                                                                 \n",
      "0.8769777754454094                                                                                                     \n",
      "ROC-AUC Score:                                                                                                         \n",
      "0.8525386712941846                                                                                                     \n",
      "SCORE:                                                                                                                 \n",
      "0.8769646558736323                                                                                                     \n"
     ]
    },
    {
     "name": "stdout",
     "output_type": "stream",
     "text": [
      "ROC-AUC Score:                                                                                                         \n",
      "0.8546334818063811                                                                                                     \n",
      "SCORE:                                                                                                                 \n",
      "0.8769908950171866                                                                                                     \n",
      "ROC-AUC Score:                                                                                                         \n",
      "0.8541057314995016                                                                                                     \n",
      "SCORE:                                                                                                                 \n",
      "0.8769908950171866                                                                                                     \n",
      "ROC-AUC Score:                                                                                                         \n",
      "0.8530928357219932                                                                                                     \n",
      "SCORE:                                                                                                                 \n",
      "0.8769646558736323                                                                                                     \n",
      "100%|███████████████████████████████████████████████| 20/20 [11:27<00:00, 34.36s/trial, best loss: -0.8550336816659432]\n"
     ]
    }
   ],
   "source": [
    "best_hyperparams = fmin(fn = model_processing,\n",
    "                        space = space,\n",
    "                        algo = tpe.suggest,\n",
    "                        max_evals = 20,\n",
    "                        trials = trials)"
   ]
  },
  {
   "cell_type": "code",
   "execution_count": 65,
   "id": "dffdfdd3",
   "metadata": {},
   "outputs": [
    {
     "name": "stdout",
     "output_type": "stream",
     "text": [
      "The best hyperparameters are:  \n",
      "\n",
      "{'colsample_bytree': 0.72006649063841, 'gamma': 1.532956578917811, 'max_depth': 17.0, 'min_child_weight': 5.0, 'reg_alpha': 51.0, 'reg_lambda': 0.6207289119757194}\n"
     ]
    }
   ],
   "source": [
    "print(\"The best hyperparameters are: \", \"\\n\")\n",
    "print(best_hyperparams)"
   ]
  },
  {
   "cell_type": "markdown",
   "id": "465a38c7",
   "metadata": {},
   "source": [
    "Using the best hyperparameters to build the final model:"
   ]
  },
  {
   "cell_type": "code",
   "execution_count": 66,
   "id": "0359879c",
   "metadata": {},
   "outputs": [],
   "source": [
    "xgb_model=xgb.XGBClassifier(n_estimators = space['n_estimators'], \n",
    "                            max_depth = 17, \n",
    "                            gamma =1.532956578917811, \n",
    "                            reg_lambda = 0.6207289119757194,\n",
    "                            reg_alpha = 51.0, \n",
    "                            min_child_weight=5.0,\n",
    "                            colsample_bytree = 0.72006649063841)"
   ]
  },
  {
   "cell_type": "code",
   "execution_count": 67,
   "id": "98310fa9",
   "metadata": {},
   "outputs": [
    {
     "data": {
      "text/html": [
       "<style>#sk-container-id-2 {color: black;background-color: white;}#sk-container-id-2 pre{padding: 0;}#sk-container-id-2 div.sk-toggleable {background-color: white;}#sk-container-id-2 label.sk-toggleable__label {cursor: pointer;display: block;width: 100%;margin-bottom: 0;padding: 0.3em;box-sizing: border-box;text-align: center;}#sk-container-id-2 label.sk-toggleable__label-arrow:before {content: \"▸\";float: left;margin-right: 0.25em;color: #696969;}#sk-container-id-2 label.sk-toggleable__label-arrow:hover:before {color: black;}#sk-container-id-2 div.sk-estimator:hover label.sk-toggleable__label-arrow:before {color: black;}#sk-container-id-2 div.sk-toggleable__content {max-height: 0;max-width: 0;overflow: hidden;text-align: left;background-color: #f0f8ff;}#sk-container-id-2 div.sk-toggleable__content pre {margin: 0.2em;color: black;border-radius: 0.25em;background-color: #f0f8ff;}#sk-container-id-2 input.sk-toggleable__control:checked~div.sk-toggleable__content {max-height: 200px;max-width: 100%;overflow: auto;}#sk-container-id-2 input.sk-toggleable__control:checked~label.sk-toggleable__label-arrow:before {content: \"▾\";}#sk-container-id-2 div.sk-estimator input.sk-toggleable__control:checked~label.sk-toggleable__label {background-color: #d4ebff;}#sk-container-id-2 div.sk-label input.sk-toggleable__control:checked~label.sk-toggleable__label {background-color: #d4ebff;}#sk-container-id-2 input.sk-hidden--visually {border: 0;clip: rect(1px 1px 1px 1px);clip: rect(1px, 1px, 1px, 1px);height: 1px;margin: -1px;overflow: hidden;padding: 0;position: absolute;width: 1px;}#sk-container-id-2 div.sk-estimator {font-family: monospace;background-color: #f0f8ff;border: 1px dotted black;border-radius: 0.25em;box-sizing: border-box;margin-bottom: 0.5em;}#sk-container-id-2 div.sk-estimator:hover {background-color: #d4ebff;}#sk-container-id-2 div.sk-parallel-item::after {content: \"\";width: 100%;border-bottom: 1px solid gray;flex-grow: 1;}#sk-container-id-2 div.sk-label:hover label.sk-toggleable__label {background-color: #d4ebff;}#sk-container-id-2 div.sk-serial::before {content: \"\";position: absolute;border-left: 1px solid gray;box-sizing: border-box;top: 0;bottom: 0;left: 50%;z-index: 0;}#sk-container-id-2 div.sk-serial {display: flex;flex-direction: column;align-items: center;background-color: white;padding-right: 0.2em;padding-left: 0.2em;position: relative;}#sk-container-id-2 div.sk-item {position: relative;z-index: 1;}#sk-container-id-2 div.sk-parallel {display: flex;align-items: stretch;justify-content: center;background-color: white;position: relative;}#sk-container-id-2 div.sk-item::before, #sk-container-id-2 div.sk-parallel-item::before {content: \"\";position: absolute;border-left: 1px solid gray;box-sizing: border-box;top: 0;bottom: 0;left: 50%;z-index: -1;}#sk-container-id-2 div.sk-parallel-item {display: flex;flex-direction: column;z-index: 1;position: relative;background-color: white;}#sk-container-id-2 div.sk-parallel-item:first-child::after {align-self: flex-end;width: 50%;}#sk-container-id-2 div.sk-parallel-item:last-child::after {align-self: flex-start;width: 50%;}#sk-container-id-2 div.sk-parallel-item:only-child::after {width: 0;}#sk-container-id-2 div.sk-dashed-wrapped {border: 1px dashed gray;margin: 0 0.4em 0.5em 0.4em;box-sizing: border-box;padding-bottom: 0.4em;background-color: white;}#sk-container-id-2 div.sk-label label {font-family: monospace;font-weight: bold;display: inline-block;line-height: 1.2em;}#sk-container-id-2 div.sk-label-container {text-align: center;}#sk-container-id-2 div.sk-container {/* jupyter's `normalize.less` sets `[hidden] { display: none; }` but bootstrap.min.css set `[hidden] { display: none !important; }` so we also need the `!important` here to be able to override the default hidden behavior on the sphinx rendered scikit-learn.org. See: https://github.com/scikit-learn/scikit-learn/issues/21755 */display: inline-block !important;position: relative;}#sk-container-id-2 div.sk-text-repr-fallback {display: none;}</style><div id=\"sk-container-id-2\" class=\"sk-top-container\"><div class=\"sk-text-repr-fallback\"><pre>XGBClassifier(base_score=0.5, booster=&#x27;gbtree&#x27;, callbacks=None,\n",
       "              colsample_bylevel=1, colsample_bynode=1,\n",
       "              colsample_bytree=0.72006649063841, early_stopping_rounds=None,\n",
       "              enable_categorical=False, eval_metric=None,\n",
       "              gamma=1.532956578917811, gpu_id=-1, grow_policy=&#x27;depthwise&#x27;,\n",
       "              importance_type=None, interaction_constraints=&#x27;&#x27;,\n",
       "              learning_rate=0.300000012, max_bin=256, max_cat_to_onehot=4,\n",
       "              max_delta_step=0, max_depth=17, max_leaves=0,\n",
       "              min_child_weight=5.0, missing=nan, monotone_constraints=&#x27;()&#x27;,\n",
       "              n_estimators=300, n_jobs=0, num_parallel_tree=1, predictor=&#x27;auto&#x27;,\n",
       "              random_state=0, reg_alpha=51.0, reg_lambda=0.6207289119757194, ...)</pre><b>In a Jupyter environment, please rerun this cell to show the HTML representation or trust the notebook. <br />On GitHub, the HTML representation is unable to render, please try loading this page with nbviewer.org.</b></div><div class=\"sk-container\" hidden><div class=\"sk-item\"><div class=\"sk-estimator sk-toggleable\"><input class=\"sk-toggleable__control sk-hidden--visually\" id=\"sk-estimator-id-4\" type=\"checkbox\" checked><label for=\"sk-estimator-id-4\" class=\"sk-toggleable__label sk-toggleable__label-arrow\">XGBClassifier</label><div class=\"sk-toggleable__content\"><pre>XGBClassifier(base_score=0.5, booster=&#x27;gbtree&#x27;, callbacks=None,\n",
       "              colsample_bylevel=1, colsample_bynode=1,\n",
       "              colsample_bytree=0.72006649063841, early_stopping_rounds=None,\n",
       "              enable_categorical=False, eval_metric=None,\n",
       "              gamma=1.532956578917811, gpu_id=-1, grow_policy=&#x27;depthwise&#x27;,\n",
       "              importance_type=None, interaction_constraints=&#x27;&#x27;,\n",
       "              learning_rate=0.300000012, max_bin=256, max_cat_to_onehot=4,\n",
       "              max_delta_step=0, max_depth=17, max_leaves=0,\n",
       "              min_child_weight=5.0, missing=nan, monotone_constraints=&#x27;()&#x27;,\n",
       "              n_estimators=300, n_jobs=0, num_parallel_tree=1, predictor=&#x27;auto&#x27;,\n",
       "              random_state=0, reg_alpha=51.0, reg_lambda=0.6207289119757194, ...)</pre></div></div></div></div></div>"
      ],
      "text/plain": [
       "XGBClassifier(base_score=0.5, booster='gbtree', callbacks=None,\n",
       "              colsample_bylevel=1, colsample_bynode=1,\n",
       "              colsample_bytree=0.72006649063841, early_stopping_rounds=None,\n",
       "              enable_categorical=False, eval_metric=None,\n",
       "              gamma=1.532956578917811, gpu_id=-1, grow_policy='depthwise',\n",
       "              importance_type=None, interaction_constraints='',\n",
       "              learning_rate=0.300000012, max_bin=256, max_cat_to_onehot=4,\n",
       "              max_delta_step=0, max_depth=17, max_leaves=0,\n",
       "              min_child_weight=5.0, missing=nan, monotone_constraints='()',\n",
       "              n_estimators=300, n_jobs=0, num_parallel_tree=1, predictor='auto',\n",
       "              random_state=0, reg_alpha=51.0, reg_lambda=0.6207289119757194, ...)"
      ]
     },
     "execution_count": 67,
     "metadata": {},
     "output_type": "execute_result"
    }
   ],
   "source": [
    "xgb_model.fit(x_train,y_train)"
   ]
  },
  {
   "cell_type": "markdown",
   "id": "1a37269c",
   "metadata": {},
   "source": [
    "#### 2.1 SAVING THE TRAINED MODEL"
   ]
  },
  {
   "cell_type": "code",
   "execution_count": 68,
   "id": "4da3afe5",
   "metadata": {},
   "outputs": [],
   "source": [
    "filename = 'XGBOOST_MODEL.sav'\n",
    "pickle.dump(xgb_model, open(filename, 'wb'))"
   ]
  },
  {
   "cell_type": "markdown",
   "id": "3c954457",
   "metadata": {},
   "source": [
    "#### 2.2 MAKING PREDICTIONS"
   ]
  },
  {
   "cell_type": "code",
   "execution_count": 69,
   "id": "d4095c60",
   "metadata": {},
   "outputs": [],
   "source": [
    "y_pred_xgb = xgb_model.predict(x_test)"
   ]
  },
  {
   "cell_type": "code",
   "execution_count": 70,
   "id": "f7a2cbdd",
   "metadata": {},
   "outputs": [
    {
     "name": "stdout",
     "output_type": "stream",
     "text": [
      "XGBOOST Accuracy: 87.71%\n"
     ]
    }
   ],
   "source": [
    "predictions_xgb = [round(value) for value in y_pred_xgb]\n",
    "accuracy_xgb = accuracy_score(y_test, predictions_xgb)\n",
    "print(\"XGBOOST Accuracy: %.2f%%\" % (accuracy_xgb * 100.0))"
   ]
  },
  {
   "cell_type": "markdown",
   "id": "becdb46b",
   "metadata": {},
   "source": [
    "#### 2.3 CLASSIFICATION REPORT"
   ]
  },
  {
   "cell_type": "code",
   "execution_count": 72,
   "id": "03b77699",
   "metadata": {},
   "outputs": [
    {
     "name": "stdout",
     "output_type": "stream",
     "text": [
      "              precision    recall  f1-score   support\n",
      "\n",
      "           0       0.88      1.00      0.93     66846\n",
      "           1       0.52      0.02      0.03      9376\n",
      "\n",
      "    accuracy                           0.88     76222\n",
      "   macro avg       0.70      0.51      0.48     76222\n",
      "weighted avg       0.83      0.88      0.82     76222\n",
      "\n"
     ]
    }
   ],
   "source": [
    "print(classification_report(y_test, y_pred_xgb))"
   ]
  },
  {
   "cell_type": "markdown",
   "id": "4e86c945",
   "metadata": {},
   "source": [
    "#### 2.4 ROC CURVE & AUC OF XGBOOST CLASSIFIER"
   ]
  },
  {
   "cell_type": "code",
   "execution_count": 73,
   "id": "896189e2",
   "metadata": {},
   "outputs": [
    {
     "data": {
      "image/png": "[encoded data removed]",
      "text/plain": [
       "<Figure size 432x288 with 1 Axes>"
      ]
     },
     "metadata": {},
     "output_type": "display_data"
    },
    {
     "name": "stdout",
     "output_type": "stream",
     "text": [
      "Area under curve (AUC):  0.8584966726408692\n"
     ]
    }
   ],
   "source": [
    "y_score = xgb_model.predict_proba(x_test)[:,1]\n",
    "fpr, tpr, _ = roc_curve(y_test, y_score)\n",
    "\n",
    "plt.plot(fpr,tpr)\n",
    "plt.plot((0,1), ls='dashed',color='black')\n",
    "plt.title('XGBoost ROC curve')\n",
    "plt.xlabel('FPR (Precision)')\n",
    "plt.ylabel('TPR (Recall)')\n",
    "\n",
    "plt.show()\n",
    "print ('Area under curve (AUC): ', auc(fpr,tpr))"
   ]
  },
  {
   "cell_type": "markdown",
   "id": "8c86b6e7",
   "metadata": {},
   "source": [
    "### 3.0 LGBM "
   ]
  },
  {
   "cell_type": "code",
   "execution_count": 74,
   "id": "760a1e37",
   "metadata": {},
   "outputs": [],
   "source": [
    "random_state = 42\n",
    "n_iter = 50\n",
    "num_folds = 2\n",
    "kf = KFold(n_splits=num_folds, random_state=random_state, shuffle=True)"
   ]
  },
  {
   "cell_type": "code",
   "execution_count": 75,
   "id": "03ac5270",
   "metadata": {},
   "outputs": [],
   "source": [
    "def lgbm_mse_cv(params, random_state=random_state, cv=kf, X=x_train, y=y_train):\n",
    "    # The functions get a set of variable parameters in \"params\"\n",
    "    params = {'n_estimators': int(params['n_estimators']), \n",
    "              'max_depth': int(params['max_depth']), \n",
    "              'learning_rate': params['learning_rate'],\n",
    "              'gamma': params['gamma'],\n",
    "              'reg_alpha' : params['reg_alpha'],\n",
    "              'reg_lambda' : params['reg_lambda'],\n",
    "              'colsample_bytree' : params['colsample_bytree'],\n",
    "              'min_child_weight' : params['min_child_weight']\n",
    "             }\n",
    "    \n",
    "    # we use this params to create a new LGBM Regressor\n",
    "    model = lgb.LGBMClassifier(random_state=42, **params)\n",
    "    \n",
    "    # and then conduct the cross validation with the same folds as before\n",
    "    score = -cross_val_score(model, X, y, cv=cv, scoring=\"roc_auc\", n_jobs=-1).mean()\n",
    "\n",
    "    return score"
   ]
  },
  {
   "cell_type": "code",
   "execution_count": 76,
   "id": "0dab1d85",
   "metadata": {},
   "outputs": [
    {
     "name": "stdout",
     "output_type": "stream",
     "text": [
      "100%|████████████████████████████████████████████████| 50/50 [06:48<00:00,  8.17s/trial, best loss: -0.857181681347539]\n",
      "[LightGBM] [Warning] Unknown parameter: gamma\n"
     ]
    }
   ],
   "source": [
    "# possible values of parameters\n",
    "space={'n_estimators': hp.quniform('n_estimators', 100, 200, 1),\n",
    "       'max_depth' : hp.quniform('max_depth', 2, 8, 1),\n",
    "       'learning_rate': hp.loguniform(\"learning_rate\",-4,-1),\n",
    "        'gamma': hp.quniform('gamma',0.1,0.5,0.1),\n",
    "        'reg_alpha' : hp.quniform('reg_alpha',1.1,1.5,0.1),\n",
    "        'reg_lambda' : hp.uniform('reg_lambda',1.1,1.5),\n",
    "        'colsample_bytree' : hp.uniform('colsample_bytree', 0.1,0.5),\n",
    "        'min_child_weight' : hp.quniform('min_child_weight', 0, 10, 1),\n",
    "      }\n",
    "\n",
    "# trials will contain logging information\n",
    "trials = Trials()\n",
    "\n",
    "best=fmin(fn=lgbm_mse_cv, # function to optimize\n",
    "          space=space, \n",
    "          algo=tpe.suggest, # optimization algorithm, hyperotp will select its parameters automatically\n",
    "          max_evals=n_iter, # maximum number of iterations\n",
    "          trials=trials, # logging\n",
    "#           rstate=np.random.RandomState(random_state) # fixing random state for the reproducibility\n",
    "         )\n",
    "\n",
    "# computing the score on the test set\n",
    "lgbm_model = lgb.LGBMClassifier(random_state=random_state, n_estimators=int(best['n_estimators']),\n",
    "                           max_depth=int(best['max_depth']),learning_rate=best['learning_rate'],gamma=best['gamma'],\n",
    "                           reg_alpha=best['reg_alpha'],reg_lambda=best['reg_lambda'],colsample_bytree=best['colsample_bytree'],\n",
    "                           min_child_weight=best['min_child_weight'])\n",
    "lgbm_model.fit(x_train,y_train)\n",
    "\n",
    "preds = [pred[1] for pred in lgbm_model.predict_proba(x_test)]\n",
    "score = roc_auc_score(y_test, preds, average = 'weighted')"
   ]
  },
  {
   "cell_type": "code",
   "execution_count": 77,
   "id": "a3704be5",
   "metadata": {},
   "outputs": [
    {
     "data": {
      "text/plain": [
       "{'colsample_bytree': 0.45504673085537795,\n",
       " 'gamma': 0.1,\n",
       " 'learning_rate': 0.0719253651085137,\n",
       " 'max_depth': 5.0,\n",
       " 'min_child_weight': 7.0,\n",
       " 'n_estimators': 193.0,\n",
       " 'reg_alpha': 1.5,\n",
       " 'reg_lambda': 1.1451509646136793}"
      ]
     },
     "execution_count": 77,
     "metadata": {},
     "output_type": "execute_result"
    }
   ],
   "source": [
    "best"
   ]
  },
  {
   "cell_type": "code",
   "execution_count": 78,
   "id": "c68e2297",
   "metadata": {},
   "outputs": [
    {
     "name": "stdout",
     "output_type": "stream",
     "text": [
      "auc-roc score on Test data 0.8590493596010861\n"
     ]
    }
   ],
   "source": [
    "print(\"auc-roc score on Test data\",score)"
   ]
  },
  {
   "cell_type": "markdown",
   "id": "aae435a0",
   "metadata": {},
   "source": [
    "#### 3.1 SAVING THE TRAINED MODEL"
   ]
  },
  {
   "cell_type": "code",
   "execution_count": 79,
   "id": "c26f8548",
   "metadata": {},
   "outputs": [],
   "source": [
    "filename = 'LGBM_MODEL.sav'\n",
    "pickle.dump(lgbm_model, open(filename, 'wb'))"
   ]
  },
  {
   "cell_type": "markdown",
   "id": "c2538c4e",
   "metadata": {},
   "source": [
    "#### 3.2 MAKING PREDICTIONS"
   ]
  },
  {
   "cell_type": "code",
   "execution_count": 80,
   "id": "b382d628",
   "metadata": {},
   "outputs": [],
   "source": [
    "y_pred_lgbm = lgbm_model.predict(x_test)"
   ]
  },
  {
   "cell_type": "code",
   "execution_count": 81,
   "id": "df46c367",
   "metadata": {},
   "outputs": [
    {
     "name": "stdout",
     "output_type": "stream",
     "text": [
      "LGBM Accuracy: 87.71%\n"
     ]
    }
   ],
   "source": [
    "predictions_lgbm = [round(value) for value in y_pred_lgbm]\n",
    "accuracy_lgbm = accuracy_score(y_test, predictions_lgbm)\n",
    "print(\"LGBM Accuracy: %.2f%%\" % (accuracy_lgbm * 100.0))"
   ]
  },
  {
   "cell_type": "markdown",
   "id": "082c71ae",
   "metadata": {},
   "source": [
    "#### 3.3 CLASSIFICATION REPORT"
   ]
  },
  {
   "cell_type": "code",
   "execution_count": 83,
   "id": "07a30e62",
   "metadata": {},
   "outputs": [
    {
     "name": "stdout",
     "output_type": "stream",
     "text": [
      "              precision    recall  f1-score   support\n",
      "\n",
      "           0       0.88      1.00      0.93     66846\n",
      "           1       0.55      0.01      0.01      9376\n",
      "\n",
      "    accuracy                           0.88     76222\n",
      "   macro avg       0.71      0.50      0.47     76222\n",
      "weighted avg       0.84      0.88      0.82     76222\n",
      "\n"
     ]
    }
   ],
   "source": [
    "print(classification_report(y_test, y_pred_lgbm))"
   ]
  },
  {
   "cell_type": "markdown",
   "id": "2891b03d",
   "metadata": {},
   "source": [
    "#### 3.4 ROC CURVE & AUC OF LGBM CLASSIFIER"
   ]
  },
  {
   "cell_type": "code",
   "execution_count": 84,
   "id": "5b294d32",
   "metadata": {},
   "outputs": [
    {
     "data": {
      "image/png": "[encoded data removed]",
      "text/plain": [
       "<Figure size 432x288 with 1 Axes>"
      ]
     },
     "metadata": {},
     "output_type": "display_data"
    },
    {
     "name": "stdout",
     "output_type": "stream",
     "text": [
      "Area under curve (AUC):  0.8590493596010861\n"
     ]
    }
   ],
   "source": [
    "y_score = lgbm_model.predict_proba(x_test)[:,1]\n",
    "fpr, tpr, _ = roc_curve(y_test, y_score)\n",
    "\n",
    "plt.title('LGBM ROC curve')\n",
    "plt.xlabel('FPR (Precision)')\n",
    "plt.ylabel('TPR (Recall)')\n",
    "\n",
    "plt.plot(fpr,tpr)\n",
    "plt.plot((0,1), ls='dashed',color='black')\n",
    "plt.show()\n",
    "print ('Area under curve (AUC): ', auc(fpr,tpr))"
   ]
  },
  {
   "cell_type": "markdown",
   "id": "4e676f58",
   "metadata": {},
   "source": [
    "### 4.0 CATBOOST"
   ]
  },
  {
   "cell_type": "code",
   "execution_count": 85,
   "id": "5793cfe6",
   "metadata": {},
   "outputs": [
    {
     "name": "stdout",
     "output_type": "stream",
     "text": [
      "Learning rate set to 0.130164\n",
      "0:\tlearn: 0.4910079\ttest: 0.4911860\tbest: 0.4911860 (0)\ttotal: 285ms\tremaining: 4m 44s\n",
      "100:\tlearn: 0.2635035\ttest: 0.2650177\tbest: 0.2650177 (100)\ttotal: 6.85s\tremaining: 1m\n",
      "Stopped by overfitting detector  (10 iterations wait)\n",
      "\n",
      "bestTest = 0.2645406725\n",
      "bestIteration = 178\n",
      "\n",
      "Shrink model to first 179 iterations.\n",
      "Validation ROC AUC Score: 0.8587709391302244\n"
     ]
    }
   ],
   "source": [
    "cat_model = CatBoostClassifier()\n",
    "cat_model = cat_model.fit(x_train, y_train, cat_features = cat_feat, eval_set = (x_test, y_test), early_stopping_rounds = 10, verbose = 100)\n",
    "\n",
    "predictions = [pred[1] for pred in cat_model.predict_proba(x_test)]\n",
    "print('Validation ROC AUC Score:', roc_auc_score(y_test, predictions, average = 'weighted'))"
   ]
  },
  {
   "cell_type": "markdown",
   "id": "77fef7d3",
   "metadata": {},
   "source": [
    "#### 4.1 SAVING THE TRAINED MODEL"
   ]
  },
  {
   "cell_type": "code",
   "execution_count": 86,
   "id": "229ce14b",
   "metadata": {},
   "outputs": [],
   "source": [
    "filename = 'CATBOOST_MODEL.sav'\n",
    "pickle.dump(cat_model, open(filename, 'wb'))"
   ]
  },
  {
   "cell_type": "markdown",
   "id": "bf69d2ff",
   "metadata": {},
   "source": [
    "#### 4.2 MAKING PREDICTIONS"
   ]
  },
  {
   "cell_type": "code",
   "execution_count": 87,
   "id": "42c0201c",
   "metadata": {},
   "outputs": [],
   "source": [
    "y_pred_cat = cat_model.predict(x_test)"
   ]
  },
  {
   "cell_type": "code",
   "execution_count": 88,
   "id": "367f66b1",
   "metadata": {},
   "outputs": [
    {
     "name": "stdout",
     "output_type": "stream",
     "text": [
      "CATBOOST Accuracy: 87.70%\n"
     ]
    }
   ],
   "source": [
    "predictions_cat = [round(value) for value in y_pred_cat]\n",
    "accuracy_cat = accuracy_score(y_test, predictions_cat)\n",
    "print(\"CATBOOST Accuracy: %.2f%%\" % (accuracy_cat * 100.0))"
   ]
  },
  {
   "cell_type": "markdown",
   "id": "46f642ea",
   "metadata": {},
   "source": [
    "#### 4.3 CLASSIFICATION REPORT"
   ]
  },
  {
   "cell_type": "code",
   "execution_count": 90,
   "id": "92db6eb6",
   "metadata": {},
   "outputs": [
    {
     "name": "stdout",
     "output_type": "stream",
     "text": [
      "              precision    recall  f1-score   support\n",
      "\n",
      "           0       0.88      1.00      0.93     66846\n",
      "           1       0.49      0.01      0.02      9376\n",
      "\n",
      "    accuracy                           0.88     76222\n",
      "   macro avg       0.69      0.50      0.48     76222\n",
      "weighted avg       0.83      0.88      0.82     76222\n",
      "\n"
     ]
    }
   ],
   "source": [
    "print(classification_report(y_test, y_pred_cat))"
   ]
  },
  {
   "cell_type": "markdown",
   "id": "e82a2308",
   "metadata": {},
   "source": [
    "#### 4.4 ROC AND AUC OF CATBOOST CLASSIFIER"
   ]
  },
  {
   "cell_type": "code",
   "execution_count": 91,
   "id": "d0154ad3",
   "metadata": {
    "scrolled": true
   },
   "outputs": [
    {
     "data": {
      "image/png": "[encoded data removed]",
      "text/plain": [
       "<Figure size 432x288 with 1 Axes>"
      ]
     },
     "metadata": {},
     "output_type": "display_data"
    },
    {
     "name": "stdout",
     "output_type": "stream",
     "text": [
      "Area under curve (AUC):  0.8587709391302244\n"
     ]
    }
   ],
   "source": [
    "y_score = cat_model.predict_proba(x_test)[:,1]\n",
    "fpr, tpr, _ = roc_curve(y_test, y_score)\n",
    "\n",
    "plt.title('CATBOOST ROC curve')\n",
    "plt.xlabel('FPR (Precision)')\n",
    "plt.ylabel('TPR (Recall)')\n",
    "\n",
    "plt.plot(fpr,tpr)\n",
    "plt.plot((0,1), ls='dashed',color='black')\n",
    "plt.show()\n",
    "print ('Area under curve (AUC): ', auc(fpr,tpr))"
   ]
  },
  {
   "cell_type": "markdown",
   "id": "e1974759",
   "metadata": {},
   "source": [
    "## RESULT COMPARISON"
   ]
  },
  {
   "cell_type": "markdown",
   "id": "e4637cbf",
   "metadata": {},
   "source": [
    "After building various different models and finding out the best possible hyperparameters to train them in order to best fit each model to our dataset, we have finally obtained the accuracy scores of each of these models."
   ]
  },
  {
   "cell_type": "code",
   "execution_count": 109,
   "id": "3da6425c",
   "metadata": {},
   "outputs": [
    {
     "data": {
      "text/html": [
       "<div>\n",
       "<style scoped>\n",
       "    .dataframe tbody tr th:only-of-type {\n",
       "        vertical-align: middle;\n",
       "    }\n",
       "\n",
       "    .dataframe tbody tr th {\n",
       "        vertical-align: top;\n",
       "    }\n",
       "\n",
       "    .dataframe thead th {\n",
       "        text-align: right;\n",
       "    }\n",
       "</style>\n",
       "<table border=\"1\" class=\"dataframe\">\n",
       "  <thead>\n",
       "    <tr style=\"text-align: right;\">\n",
       "      <th></th>\n",
       "      <th>Accuracy Score</th>\n",
       "    </tr>\n",
       "    <tr>\n",
       "      <th>Model</th>\n",
       "      <th></th>\n",
       "    </tr>\n",
       "  </thead>\n",
       "  <tbody>\n",
       "    <tr>\n",
       "      <th>XGBOOST</th>\n",
       "      <td>0.877122</td>\n",
       "    </tr>\n",
       "    <tr>\n",
       "      <th>LGBM</th>\n",
       "      <td>0.877122</td>\n",
       "    </tr>\n",
       "    <tr>\n",
       "      <th>Random Forest</th>\n",
       "      <td>0.877004</td>\n",
       "    </tr>\n",
       "    <tr>\n",
       "      <th>CATBOOST</th>\n",
       "      <td>0.876965</td>\n",
       "    </tr>\n",
       "  </tbody>\n",
       "</table>\n",
       "</div>"
      ],
      "text/plain": [
       "               Accuracy Score\n",
       "Model                        \n",
       "XGBOOST              0.877122\n",
       "LGBM                 0.877122\n",
       "Random Forest        0.877004\n",
       "CATBOOST             0.876965"
      ]
     },
     "execution_count": 109,
     "metadata": {},
     "output_type": "execute_result"
    }
   ],
   "source": [
    "results_dict = {\n",
    "    'Random Forest': accuracy_rf,\n",
    "    'XGBOOST': accuracy_xgb,\n",
    "    'LGBM': accuracy_lgbm,\n",
    "    'CATBOOST': accuracy_cat\n",
    "}\n",
    "results_df = pd.DataFrame(results_dict.items(), columns=['Model', 'Accuracy Score']).set_index('Model').sort_values(by=\"Accuracy Score\", ascending=False)\n",
    "results_df"
   ]
  },
  {
   "cell_type": "markdown",
   "id": "141c8898",
   "metadata": {},
   "source": [
    "The performance of all the models used in this project is more or less same but XGBOOST and LGBM models have performed the best amongst all."
   ]
  }
 ],
 "metadata": {
  "kernelspec": {
   "display_name": "Python 3 (ipykernel)",
   "language": "python",
   "name": "python3"
  },
  "language_info": {
   "codemirror_mode": {
    "name": "ipython",
    "version": 3
   },
   "file_extension": ".py",
   "mimetype": "text/x-python",
   "name": "python",
   "nbconvert_exporter": "python",
   "pygments_lexer": "ipython3",
   "version": "3.10.6"
  }
 },
 "nbformat": 4,
 "nbformat_minor": 5
}
